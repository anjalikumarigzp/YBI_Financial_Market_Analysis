{
  "nbformat": 4,
  "nbformat_minor": 0,
  "metadata": {
    "colab": {
      "provenance": []
    },
    "kernelspec": {
      "name": "python3",
      "display_name": "Python 3"
    },
    "language_info": {
      "name": "python"
    }
  },
  "cells": [
    {
      "cell_type": "markdown",
      "source": [
        "# Finacial Market News - Sentiment Anlysis\n",
        "\n"
      ],
      "metadata": {
        "id": "DZ3MRSk9OS5A"
      }
    },
    {
      "cell_type": "markdown",
      "source": [
        "#Import Library"
      ],
      "metadata": {
        "id": "dBbuJy-UOkoH"
      }
    },
    {
      "cell_type": "code",
      "execution_count": 1,
      "metadata": {
        "id": "T1cYsOXGOCCr"
      },
      "outputs": [],
      "source": [
        "import pandas as pd\n",
        "import numpy as np\n",
        "\n"
      ]
    },
    {
      "cell_type": "markdown",
      "source": [
        "\n",
        "# Objective"
      ],
      "metadata": {
        "id": "vkveWTCCBCu7"
      }
    },
    {
      "cell_type": "markdown",
      "source": [
        "Analyzing financial market news using sentiment analysis involves assessing the overall sentiment expressed in news articles, social media, or other textual sources related to financial markets. The goal is to understand market sentiment and identify potential trends or shifts in investor sentiment that could impact asset prices.\n",
        "\n"
      ],
      "metadata": {
        "id": "md0s0tkABNk4"
      }
    },
    {
      "cell_type": "markdown",
      "source": [
        "#Import Dataset"
      ],
      "metadata": {
        "id": "MnqlhdBLTtRg"
      }
    },
    {
      "cell_type": "code",
      "source": [
        "url = 'https://github.com/YBI-Foundation/Dataset/raw/main/Financial%20Market%20News.csv'\n",
        "df = pd.read_csv(url, encoding='ISO-8859-1')\n"
      ],
      "metadata": {
        "id": "uwTfKbp0POwF"
      },
      "execution_count": 2,
      "outputs": []
    },
    {
      "cell_type": "code",
      "source": [
        "df.head()"
      ],
      "metadata": {
        "colab": {
          "base_uri": "https://localhost:8080/",
          "height": 724
        },
        "id": "bWweT7FwTyfN",
        "outputId": "0b850a6e-8fad-4783-a5b1-59cf0d8c424e"
      },
      "execution_count": 4,
      "outputs": [
        {
          "output_type": "execute_result",
          "data": {
            "text/plain": [
              "         Date  Label                                             News 1  \\\n",
              "0  01-01-2010      0           McIlroy's men catch cold from Gudjonsson   \n",
              "1  02-01-2010      0               Warning from history points to crash   \n",
              "2  03-01-2010      0      Comment: Why Israel's peaceniks feel betrayed   \n",
              "3  04-01-2010      1             £750,000-a-goal Weah aims parting shot   \n",
              "4  05-01-2010      1  Leeds arrive in Turkey to the silence of the fans   \n",
              "\n",
              "                                       News 2  \\\n",
              "0                       Obituary: Brian Walsh   \n",
              "1              Investors flee to dollar haven   \n",
              "2  Court deals blow to seizure of drug assets   \n",
              "3            Newcastle pay for Fletcher years   \n",
              "4     One woman's vision offers loan lifeline   \n",
              "\n",
              "                                            News 3  \\\n",
              "0       Workplace blues leave employers in the red   \n",
              "1                      Banks and tobacco in favour   \n",
              "2                       An ideal target for spooks   \n",
              "3  Brown sent to the stands for Scotland qualifier   \n",
              "4          Working Lives: How world leaders worked   \n",
              "\n",
              "                                        News 4  \\\n",
              "0                     Classical review: Rattle   \n",
              "1                        Review: Llama Farmers   \n",
              "2  World steps between two sides intent on war   \n",
              "3         Tourists wary of breaking new ground   \n",
              "4           Working Lives: Tricks of the trade   \n",
              "\n",
              "                                              News 5  \\\n",
              "0                     Dance review: Merce Cunningham   \n",
              "1                       War jitters lead to sell-off   \n",
              "2                       What the region's papers say   \n",
              "3              Canary Wharf climbs into the FTSE 100   \n",
              "4  Working Lives: six-hour days, long lunches and...   \n",
              "\n",
              "                                         News 6  \\\n",
              "0  Genetic tests to be used in setting premiums   \n",
              "1                    Your not-so-secret history   \n",
              "2           Comment: Fear and rage in Palestine   \n",
              "3                           Review: Bill Bailey   \n",
              "4                        Pop review: We Love UK   \n",
              "\n",
              "                                          News 7  \\\n",
              "0                        Opera review: La Bohème   \n",
              "1                  Review: The Northern Sinfonia   \n",
              "2  Poverty and resentment fuels Palestinian fury   \n",
              "3                              Review: Classical   \n",
              "4               World music review: Marisa Monte   \n",
              "\n",
              "                                        News 8  ...  \\\n",
              "0                   Pop review: Britney Spears  ...   \n",
              "1                             Review: Hysteria  ...   \n",
              "2  Republican feud fear as dissident is killed  ...   \n",
              "3              Review: New Contemporaries 2000  ...   \n",
              "4             Art review:  Hollingsworth/Heyer  ...   \n",
              "\n",
              "                                News 16                              News 17  \\\n",
              "0                 Finland 0 - 0 England                   Healy a marked man   \n",
              "1  Why Wenger will stick to his Gunners  Out of luck England hit rock bottom   \n",
              "2             FTSE goes upwardly mobile             At this price?  BP Amoco   \n",
              "3         More cash on way for counties      Cairns carries Kiwis to victory   \n",
              "4          Duisenberg in double trouble           Pru to cut pension charges   \n",
              "\n",
              "                                             News 18  \\\n",
              "0                     Happy birthday Harpers & Queen   \n",
              "1                         Wilkinson out of his depth   \n",
              "2                                            Go fish   \n",
              "3  Year of Blanchflower's flourish when Spurs sto...   \n",
              "4                            Art review: Paul Graham   \n",
              "\n",
              "                                             News 19  \\\n",
              "0  Win unlimited access to the Raindance film fes...   \n",
              "1                   Kinsella sparks Irish power play   \n",
              "2         Bosnian Serb blows himself up to evade law   \n",
              "3      New direct approach brings only pay-per-blues   \n",
              "4               Shearer shot sparks Boro humiliation   \n",
              "\n",
              "                                             News 20  \\\n",
              "0  Labour pledges £800m to bridge north-south divide   \n",
              "1                    Brown banished as Scots rebound   \n",
              "2                       Orange float delayed to 2001   \n",
              "3                           Third Division  round-up   \n",
              "4  Ridsdale's lingering fears as Leeds revisit Tu...   \n",
              "\n",
              "                                             News 21  \\\n",
              "0       Wales: Lib-Lab pact firm despite resignation   \n",
              "1                   Battling Wales cling to lifeline   \n",
              "2  Angry factory workers root out fear, favours a...   \n",
              "3                          Second Division  round-up   \n",
              "4            Champions League: Rangers v Galatasaray   \n",
              "\n",
              "                              News 22  \\\n",
              "0                        Donald Dewar   \n",
              "1   Ehiogu close to sealing Boro move   \n",
              "2  Smith defied advice on dome payout   \n",
              "3            First Division  round-up   \n",
              "4   Champions League: Lazio v Arsenal   \n",
              "\n",
              "                                             News 23  \\\n",
              "0  Regenerating homes  regenerates well-being in ...   \n",
              "1                                 Man-to-man marking   \n",
              "2                        Xerox takes the axe to jobs   \n",
              "3                McLean ends his career with a punch   \n",
              "4                                Lazio 1 - 1 Arsenal   \n",
              "\n",
              "                        News 24  \\\n",
              "0   Win £100 worth of underwear   \n",
              "1                   Match stats   \n",
              "2  Comment: Refugees in Britain   \n",
              "3     Heskey grabs triple crown   \n",
              "4           England in Pakistan   \n",
              "\n",
              "                                             News 25  \n",
              "0                             TV guide: Random views  \n",
              "1  French referee at centre of storm is no strang...  \n",
              "2              Maverick who sparked the new intifada  \n",
              "3                   Weah on his way as City march on  \n",
              "4               England given olive-branch reception  \n",
              "\n",
              "[5 rows x 27 columns]"
            ],
            "text/html": [
              "\n",
              "  <div id=\"df-df7eca72-8db1-43e7-ae88-37a5f9f10e43\" class=\"colab-df-container\">\n",
              "    <div>\n",
              "<style scoped>\n",
              "    .dataframe tbody tr th:only-of-type {\n",
              "        vertical-align: middle;\n",
              "    }\n",
              "\n",
              "    .dataframe tbody tr th {\n",
              "        vertical-align: top;\n",
              "    }\n",
              "\n",
              "    .dataframe thead th {\n",
              "        text-align: right;\n",
              "    }\n",
              "</style>\n",
              "<table border=\"1\" class=\"dataframe\">\n",
              "  <thead>\n",
              "    <tr style=\"text-align: right;\">\n",
              "      <th></th>\n",
              "      <th>Date</th>\n",
              "      <th>Label</th>\n",
              "      <th>News 1</th>\n",
              "      <th>News 2</th>\n",
              "      <th>News 3</th>\n",
              "      <th>News 4</th>\n",
              "      <th>News 5</th>\n",
              "      <th>News 6</th>\n",
              "      <th>News 7</th>\n",
              "      <th>News 8</th>\n",
              "      <th>...</th>\n",
              "      <th>News 16</th>\n",
              "      <th>News 17</th>\n",
              "      <th>News 18</th>\n",
              "      <th>News 19</th>\n",
              "      <th>News 20</th>\n",
              "      <th>News 21</th>\n",
              "      <th>News 22</th>\n",
              "      <th>News 23</th>\n",
              "      <th>News 24</th>\n",
              "      <th>News 25</th>\n",
              "    </tr>\n",
              "  </thead>\n",
              "  <tbody>\n",
              "    <tr>\n",
              "      <th>0</th>\n",
              "      <td>01-01-2010</td>\n",
              "      <td>0</td>\n",
              "      <td>McIlroy's men catch cold from Gudjonsson</td>\n",
              "      <td>Obituary: Brian Walsh</td>\n",
              "      <td>Workplace blues leave employers in the red</td>\n",
              "      <td>Classical review: Rattle</td>\n",
              "      <td>Dance review: Merce Cunningham</td>\n",
              "      <td>Genetic tests to be used in setting premiums</td>\n",
              "      <td>Opera review: La Bohème</td>\n",
              "      <td>Pop review: Britney Spears</td>\n",
              "      <td>...</td>\n",
              "      <td>Finland 0 - 0 England</td>\n",
              "      <td>Healy a marked man</td>\n",
              "      <td>Happy birthday Harpers &amp; Queen</td>\n",
              "      <td>Win unlimited access to the Raindance film fes...</td>\n",
              "      <td>Labour pledges £800m to bridge north-south divide</td>\n",
              "      <td>Wales: Lib-Lab pact firm despite resignation</td>\n",
              "      <td>Donald Dewar</td>\n",
              "      <td>Regenerating homes  regenerates well-being in ...</td>\n",
              "      <td>Win £100 worth of underwear</td>\n",
              "      <td>TV guide: Random views</td>\n",
              "    </tr>\n",
              "    <tr>\n",
              "      <th>1</th>\n",
              "      <td>02-01-2010</td>\n",
              "      <td>0</td>\n",
              "      <td>Warning from history points to crash</td>\n",
              "      <td>Investors flee to dollar haven</td>\n",
              "      <td>Banks and tobacco in favour</td>\n",
              "      <td>Review: Llama Farmers</td>\n",
              "      <td>War jitters lead to sell-off</td>\n",
              "      <td>Your not-so-secret history</td>\n",
              "      <td>Review: The Northern Sinfonia</td>\n",
              "      <td>Review: Hysteria</td>\n",
              "      <td>...</td>\n",
              "      <td>Why Wenger will stick to his Gunners</td>\n",
              "      <td>Out of luck England hit rock bottom</td>\n",
              "      <td>Wilkinson out of his depth</td>\n",
              "      <td>Kinsella sparks Irish power play</td>\n",
              "      <td>Brown banished as Scots rebound</td>\n",
              "      <td>Battling Wales cling to lifeline</td>\n",
              "      <td>Ehiogu close to sealing Boro move</td>\n",
              "      <td>Man-to-man marking</td>\n",
              "      <td>Match stats</td>\n",
              "      <td>French referee at centre of storm is no strang...</td>\n",
              "    </tr>\n",
              "    <tr>\n",
              "      <th>2</th>\n",
              "      <td>03-01-2010</td>\n",
              "      <td>0</td>\n",
              "      <td>Comment: Why Israel's peaceniks feel betrayed</td>\n",
              "      <td>Court deals blow to seizure of drug assets</td>\n",
              "      <td>An ideal target for spooks</td>\n",
              "      <td>World steps between two sides intent on war</td>\n",
              "      <td>What the region's papers say</td>\n",
              "      <td>Comment: Fear and rage in Palestine</td>\n",
              "      <td>Poverty and resentment fuels Palestinian fury</td>\n",
              "      <td>Republican feud fear as dissident is killed</td>\n",
              "      <td>...</td>\n",
              "      <td>FTSE goes upwardly mobile</td>\n",
              "      <td>At this price?  BP Amoco</td>\n",
              "      <td>Go fish</td>\n",
              "      <td>Bosnian Serb blows himself up to evade law</td>\n",
              "      <td>Orange float delayed to 2001</td>\n",
              "      <td>Angry factory workers root out fear, favours a...</td>\n",
              "      <td>Smith defied advice on dome payout</td>\n",
              "      <td>Xerox takes the axe to jobs</td>\n",
              "      <td>Comment: Refugees in Britain</td>\n",
              "      <td>Maverick who sparked the new intifada</td>\n",
              "    </tr>\n",
              "    <tr>\n",
              "      <th>3</th>\n",
              "      <td>04-01-2010</td>\n",
              "      <td>1</td>\n",
              "      <td>£750,000-a-goal Weah aims parting shot</td>\n",
              "      <td>Newcastle pay for Fletcher years</td>\n",
              "      <td>Brown sent to the stands for Scotland qualifier</td>\n",
              "      <td>Tourists wary of breaking new ground</td>\n",
              "      <td>Canary Wharf climbs into the FTSE 100</td>\n",
              "      <td>Review: Bill Bailey</td>\n",
              "      <td>Review: Classical</td>\n",
              "      <td>Review: New Contemporaries 2000</td>\n",
              "      <td>...</td>\n",
              "      <td>More cash on way for counties</td>\n",
              "      <td>Cairns carries Kiwis to victory</td>\n",
              "      <td>Year of Blanchflower's flourish when Spurs sto...</td>\n",
              "      <td>New direct approach brings only pay-per-blues</td>\n",
              "      <td>Third Division  round-up</td>\n",
              "      <td>Second Division  round-up</td>\n",
              "      <td>First Division  round-up</td>\n",
              "      <td>McLean ends his career with a punch</td>\n",
              "      <td>Heskey grabs triple crown</td>\n",
              "      <td>Weah on his way as City march on</td>\n",
              "    </tr>\n",
              "    <tr>\n",
              "      <th>4</th>\n",
              "      <td>05-01-2010</td>\n",
              "      <td>1</td>\n",
              "      <td>Leeds arrive in Turkey to the silence of the fans</td>\n",
              "      <td>One woman's vision offers loan lifeline</td>\n",
              "      <td>Working Lives: How world leaders worked</td>\n",
              "      <td>Working Lives: Tricks of the trade</td>\n",
              "      <td>Working Lives: six-hour days, long lunches and...</td>\n",
              "      <td>Pop review: We Love UK</td>\n",
              "      <td>World music review: Marisa Monte</td>\n",
              "      <td>Art review:  Hollingsworth/Heyer</td>\n",
              "      <td>...</td>\n",
              "      <td>Duisenberg in double trouble</td>\n",
              "      <td>Pru to cut pension charges</td>\n",
              "      <td>Art review: Paul Graham</td>\n",
              "      <td>Shearer shot sparks Boro humiliation</td>\n",
              "      <td>Ridsdale's lingering fears as Leeds revisit Tu...</td>\n",
              "      <td>Champions League: Rangers v Galatasaray</td>\n",
              "      <td>Champions League: Lazio v Arsenal</td>\n",
              "      <td>Lazio 1 - 1 Arsenal</td>\n",
              "      <td>England in Pakistan</td>\n",
              "      <td>England given olive-branch reception</td>\n",
              "    </tr>\n",
              "  </tbody>\n",
              "</table>\n",
              "<p>5 rows × 27 columns</p>\n",
              "</div>\n",
              "    <div class=\"colab-df-buttons\">\n",
              "\n",
              "  <div class=\"colab-df-container\">\n",
              "    <button class=\"colab-df-convert\" onclick=\"convertToInteractive('df-df7eca72-8db1-43e7-ae88-37a5f9f10e43')\"\n",
              "            title=\"Convert this dataframe to an interactive table.\"\n",
              "            style=\"display:none;\">\n",
              "\n",
              "  <svg xmlns=\"http://www.w3.org/2000/svg\" height=\"24px\" viewBox=\"0 -960 960 960\">\n",
              "    <path d=\"M120-120v-720h720v720H120Zm60-500h600v-160H180v160Zm220 220h160v-160H400v160Zm0 220h160v-160H400v160ZM180-400h160v-160H180v160Zm440 0h160v-160H620v160ZM180-180h160v-160H180v160Zm440 0h160v-160H620v160Z\"/>\n",
              "  </svg>\n",
              "    </button>\n",
              "\n",
              "  <style>\n",
              "    .colab-df-container {\n",
              "      display:flex;\n",
              "      gap: 12px;\n",
              "    }\n",
              "\n",
              "    .colab-df-convert {\n",
              "      background-color: #E8F0FE;\n",
              "      border: none;\n",
              "      border-radius: 50%;\n",
              "      cursor: pointer;\n",
              "      display: none;\n",
              "      fill: #1967D2;\n",
              "      height: 32px;\n",
              "      padding: 0 0 0 0;\n",
              "      width: 32px;\n",
              "    }\n",
              "\n",
              "    .colab-df-convert:hover {\n",
              "      background-color: #E2EBFA;\n",
              "      box-shadow: 0px 1px 2px rgba(60, 64, 67, 0.3), 0px 1px 3px 1px rgba(60, 64, 67, 0.15);\n",
              "      fill: #174EA6;\n",
              "    }\n",
              "\n",
              "    .colab-df-buttons div {\n",
              "      margin-bottom: 4px;\n",
              "    }\n",
              "\n",
              "    [theme=dark] .colab-df-convert {\n",
              "      background-color: #3B4455;\n",
              "      fill: #D2E3FC;\n",
              "    }\n",
              "\n",
              "    [theme=dark] .colab-df-convert:hover {\n",
              "      background-color: #434B5C;\n",
              "      box-shadow: 0px 1px 3px 1px rgba(0, 0, 0, 0.15);\n",
              "      filter: drop-shadow(0px 1px 2px rgba(0, 0, 0, 0.3));\n",
              "      fill: #FFFFFF;\n",
              "    }\n",
              "  </style>\n",
              "\n",
              "    <script>\n",
              "      const buttonEl =\n",
              "        document.querySelector('#df-df7eca72-8db1-43e7-ae88-37a5f9f10e43 button.colab-df-convert');\n",
              "      buttonEl.style.display =\n",
              "        google.colab.kernel.accessAllowed ? 'block' : 'none';\n",
              "\n",
              "      async function convertToInteractive(key) {\n",
              "        const element = document.querySelector('#df-df7eca72-8db1-43e7-ae88-37a5f9f10e43');\n",
              "        const dataTable =\n",
              "          await google.colab.kernel.invokeFunction('convertToInteractive',\n",
              "                                                    [key], {});\n",
              "        if (!dataTable) return;\n",
              "\n",
              "        const docLinkHtml = 'Like what you see? Visit the ' +\n",
              "          '<a target=\"_blank\" href=https://colab.research.google.com/notebooks/data_table.ipynb>data table notebook</a>'\n",
              "          + ' to learn more about interactive tables.';\n",
              "        element.innerHTML = '';\n",
              "        dataTable['output_type'] = 'display_data';\n",
              "        await google.colab.output.renderOutput(dataTable, element);\n",
              "        const docLink = document.createElement('div');\n",
              "        docLink.innerHTML = docLinkHtml;\n",
              "        element.appendChild(docLink);\n",
              "      }\n",
              "    </script>\n",
              "  </div>\n",
              "\n",
              "\n",
              "<div id=\"df-ac074b81-d5ea-42ca-beec-6b7efa342fe9\">\n",
              "  <button class=\"colab-df-quickchart\" onclick=\"quickchart('df-ac074b81-d5ea-42ca-beec-6b7efa342fe9')\"\n",
              "            title=\"Suggest charts\"\n",
              "            style=\"display:none;\">\n",
              "\n",
              "<svg xmlns=\"http://www.w3.org/2000/svg\" height=\"24px\"viewBox=\"0 0 24 24\"\n",
              "     width=\"24px\">\n",
              "    <g>\n",
              "        <path d=\"M19 3H5c-1.1 0-2 .9-2 2v14c0 1.1.9 2 2 2h14c1.1 0 2-.9 2-2V5c0-1.1-.9-2-2-2zM9 17H7v-7h2v7zm4 0h-2V7h2v10zm4 0h-2v-4h2v4z\"/>\n",
              "    </g>\n",
              "</svg>\n",
              "  </button>\n",
              "\n",
              "<style>\n",
              "  .colab-df-quickchart {\n",
              "      --bg-color: #E8F0FE;\n",
              "      --fill-color: #1967D2;\n",
              "      --hover-bg-color: #E2EBFA;\n",
              "      --hover-fill-color: #174EA6;\n",
              "      --disabled-fill-color: #AAA;\n",
              "      --disabled-bg-color: #DDD;\n",
              "  }\n",
              "\n",
              "  [theme=dark] .colab-df-quickchart {\n",
              "      --bg-color: #3B4455;\n",
              "      --fill-color: #D2E3FC;\n",
              "      --hover-bg-color: #434B5C;\n",
              "      --hover-fill-color: #FFFFFF;\n",
              "      --disabled-bg-color: #3B4455;\n",
              "      --disabled-fill-color: #666;\n",
              "  }\n",
              "\n",
              "  .colab-df-quickchart {\n",
              "    background-color: var(--bg-color);\n",
              "    border: none;\n",
              "    border-radius: 50%;\n",
              "    cursor: pointer;\n",
              "    display: none;\n",
              "    fill: var(--fill-color);\n",
              "    height: 32px;\n",
              "    padding: 0;\n",
              "    width: 32px;\n",
              "  }\n",
              "\n",
              "  .colab-df-quickchart:hover {\n",
              "    background-color: var(--hover-bg-color);\n",
              "    box-shadow: 0 1px 2px rgba(60, 64, 67, 0.3), 0 1px 3px 1px rgba(60, 64, 67, 0.15);\n",
              "    fill: var(--button-hover-fill-color);\n",
              "  }\n",
              "\n",
              "  .colab-df-quickchart-complete:disabled,\n",
              "  .colab-df-quickchart-complete:disabled:hover {\n",
              "    background-color: var(--disabled-bg-color);\n",
              "    fill: var(--disabled-fill-color);\n",
              "    box-shadow: none;\n",
              "  }\n",
              "\n",
              "  .colab-df-spinner {\n",
              "    border: 2px solid var(--fill-color);\n",
              "    border-color: transparent;\n",
              "    border-bottom-color: var(--fill-color);\n",
              "    animation:\n",
              "      spin 1s steps(1) infinite;\n",
              "  }\n",
              "\n",
              "  @keyframes spin {\n",
              "    0% {\n",
              "      border-color: transparent;\n",
              "      border-bottom-color: var(--fill-color);\n",
              "      border-left-color: var(--fill-color);\n",
              "    }\n",
              "    20% {\n",
              "      border-color: transparent;\n",
              "      border-left-color: var(--fill-color);\n",
              "      border-top-color: var(--fill-color);\n",
              "    }\n",
              "    30% {\n",
              "      border-color: transparent;\n",
              "      border-left-color: var(--fill-color);\n",
              "      border-top-color: var(--fill-color);\n",
              "      border-right-color: var(--fill-color);\n",
              "    }\n",
              "    40% {\n",
              "      border-color: transparent;\n",
              "      border-right-color: var(--fill-color);\n",
              "      border-top-color: var(--fill-color);\n",
              "    }\n",
              "    60% {\n",
              "      border-color: transparent;\n",
              "      border-right-color: var(--fill-color);\n",
              "    }\n",
              "    80% {\n",
              "      border-color: transparent;\n",
              "      border-right-color: var(--fill-color);\n",
              "      border-bottom-color: var(--fill-color);\n",
              "    }\n",
              "    90% {\n",
              "      border-color: transparent;\n",
              "      border-bottom-color: var(--fill-color);\n",
              "    }\n",
              "  }\n",
              "</style>\n",
              "\n",
              "  <script>\n",
              "    async function quickchart(key) {\n",
              "      const quickchartButtonEl =\n",
              "        document.querySelector('#' + key + ' button');\n",
              "      quickchartButtonEl.disabled = true;  // To prevent multiple clicks.\n",
              "      quickchartButtonEl.classList.add('colab-df-spinner');\n",
              "      try {\n",
              "        const charts = await google.colab.kernel.invokeFunction(\n",
              "            'suggestCharts', [key], {});\n",
              "      } catch (error) {\n",
              "        console.error('Error during call to suggestCharts:', error);\n",
              "      }\n",
              "      quickchartButtonEl.classList.remove('colab-df-spinner');\n",
              "      quickchartButtonEl.classList.add('colab-df-quickchart-complete');\n",
              "    }\n",
              "    (() => {\n",
              "      let quickchartButtonEl =\n",
              "        document.querySelector('#df-ac074b81-d5ea-42ca-beec-6b7efa342fe9 button');\n",
              "      quickchartButtonEl.style.display =\n",
              "        google.colab.kernel.accessAllowed ? 'block' : 'none';\n",
              "    })();\n",
              "  </script>\n",
              "</div>\n",
              "\n",
              "    </div>\n",
              "  </div>\n"
            ]
          },
          "metadata": {},
          "execution_count": 4
        }
      ]
    },
    {
      "cell_type": "markdown",
      "source": [
        "# Describe Data"
      ],
      "metadata": {
        "id": "k0L52ylKUiyb"
      }
    },
    {
      "cell_type": "code",
      "source": [
        "df.describe()"
      ],
      "metadata": {
        "colab": {
          "base_uri": "https://localhost:8080/",
          "height": 948
        },
        "id": "gfAoDSlZU842",
        "outputId": "62ed3946-317c-45db-d850-0dc34ed66e1c"
      },
      "execution_count": 5,
      "outputs": [
        {
          "output_type": "execute_result",
          "data": {
            "text/plain": [
              "             Label\n",
              "count  4101.000000\n",
              "mean      0.528164\n",
              "std       0.499267\n",
              "min       0.000000\n",
              "25%       0.000000\n",
              "50%       1.000000\n",
              "75%       1.000000\n",
              "max       1.000000"
            ],
            "text/html": [
              "\n",
              "  <div id=\"df-52dc17aa-612e-4f23-ac86-6be5d29fdcbd\" class=\"colab-df-container\">\n",
              "    <div>\n",
              "<style scoped>\n",
              "    .dataframe tbody tr th:only-of-type {\n",
              "        vertical-align: middle;\n",
              "    }\n",
              "\n",
              "    .dataframe tbody tr th {\n",
              "        vertical-align: top;\n",
              "    }\n",
              "\n",
              "    .dataframe thead th {\n",
              "        text-align: right;\n",
              "    }\n",
              "</style>\n",
              "<table border=\"1\" class=\"dataframe\">\n",
              "  <thead>\n",
              "    <tr style=\"text-align: right;\">\n",
              "      <th></th>\n",
              "      <th>Label</th>\n",
              "    </tr>\n",
              "  </thead>\n",
              "  <tbody>\n",
              "    <tr>\n",
              "      <th>count</th>\n",
              "      <td>4101.000000</td>\n",
              "    </tr>\n",
              "    <tr>\n",
              "      <th>mean</th>\n",
              "      <td>0.528164</td>\n",
              "    </tr>\n",
              "    <tr>\n",
              "      <th>std</th>\n",
              "      <td>0.499267</td>\n",
              "    </tr>\n",
              "    <tr>\n",
              "      <th>min</th>\n",
              "      <td>0.000000</td>\n",
              "    </tr>\n",
              "    <tr>\n",
              "      <th>25%</th>\n",
              "      <td>0.000000</td>\n",
              "    </tr>\n",
              "    <tr>\n",
              "      <th>50%</th>\n",
              "      <td>1.000000</td>\n",
              "    </tr>\n",
              "    <tr>\n",
              "      <th>75%</th>\n",
              "      <td>1.000000</td>\n",
              "    </tr>\n",
              "    <tr>\n",
              "      <th>max</th>\n",
              "      <td>1.000000</td>\n",
              "    </tr>\n",
              "  </tbody>\n",
              "</table>\n",
              "</div>\n",
              "    <div class=\"colab-df-buttons\">\n",
              "\n",
              "  <div class=\"colab-df-container\">\n",
              "    <button class=\"colab-df-convert\" onclick=\"convertToInteractive('df-52dc17aa-612e-4f23-ac86-6be5d29fdcbd')\"\n",
              "            title=\"Convert this dataframe to an interactive table.\"\n",
              "            style=\"display:none;\">\n",
              "\n",
              "  <svg xmlns=\"http://www.w3.org/2000/svg\" height=\"24px\" viewBox=\"0 -960 960 960\">\n",
              "    <path d=\"M120-120v-720h720v720H120Zm60-500h600v-160H180v160Zm220 220h160v-160H400v160Zm0 220h160v-160H400v160ZM180-400h160v-160H180v160Zm440 0h160v-160H620v160ZM180-180h160v-160H180v160Zm440 0h160v-160H620v160Z\"/>\n",
              "  </svg>\n",
              "    </button>\n",
              "\n",
              "  <style>\n",
              "    .colab-df-container {\n",
              "      display:flex;\n",
              "      gap: 12px;\n",
              "    }\n",
              "\n",
              "    .colab-df-convert {\n",
              "      background-color: #E8F0FE;\n",
              "      border: none;\n",
              "      border-radius: 50%;\n",
              "      cursor: pointer;\n",
              "      display: none;\n",
              "      fill: #1967D2;\n",
              "      height: 32px;\n",
              "      padding: 0 0 0 0;\n",
              "      width: 32px;\n",
              "    }\n",
              "\n",
              "    .colab-df-convert:hover {\n",
              "      background-color: #E2EBFA;\n",
              "      box-shadow: 0px 1px 2px rgba(60, 64, 67, 0.3), 0px 1px 3px 1px rgba(60, 64, 67, 0.15);\n",
              "      fill: #174EA6;\n",
              "    }\n",
              "\n",
              "    .colab-df-buttons div {\n",
              "      margin-bottom: 4px;\n",
              "    }\n",
              "\n",
              "    [theme=dark] .colab-df-convert {\n",
              "      background-color: #3B4455;\n",
              "      fill: #D2E3FC;\n",
              "    }\n",
              "\n",
              "    [theme=dark] .colab-df-convert:hover {\n",
              "      background-color: #434B5C;\n",
              "      box-shadow: 0px 1px 3px 1px rgba(0, 0, 0, 0.15);\n",
              "      filter: drop-shadow(0px 1px 2px rgba(0, 0, 0, 0.3));\n",
              "      fill: #FFFFFF;\n",
              "    }\n",
              "  </style>\n",
              "\n",
              "    <script>\n",
              "      const buttonEl =\n",
              "        document.querySelector('#df-52dc17aa-612e-4f23-ac86-6be5d29fdcbd button.colab-df-convert');\n",
              "      buttonEl.style.display =\n",
              "        google.colab.kernel.accessAllowed ? 'block' : 'none';\n",
              "\n",
              "      async function convertToInteractive(key) {\n",
              "        const element = document.querySelector('#df-52dc17aa-612e-4f23-ac86-6be5d29fdcbd');\n",
              "        const dataTable =\n",
              "          await google.colab.kernel.invokeFunction('convertToInteractive',\n",
              "                                                    [key], {});\n",
              "        if (!dataTable) return;\n",
              "\n",
              "        const docLinkHtml = 'Like what you see? Visit the ' +\n",
              "          '<a target=\"_blank\" href=https://colab.research.google.com/notebooks/data_table.ipynb>data table notebook</a>'\n",
              "          + ' to learn more about interactive tables.';\n",
              "        element.innerHTML = '';\n",
              "        dataTable['output_type'] = 'display_data';\n",
              "        await google.colab.output.renderOutput(dataTable, element);\n",
              "        const docLink = document.createElement('div');\n",
              "        docLink.innerHTML = docLinkHtml;\n",
              "        element.appendChild(docLink);\n",
              "      }\n",
              "    </script>\n",
              "  </div>\n",
              "\n",
              "\n",
              "<div id=\"df-a997a1ea-a245-4f94-9703-4e2d231bf4e3\">\n",
              "  <button class=\"colab-df-quickchart\" onclick=\"quickchart('df-a997a1ea-a245-4f94-9703-4e2d231bf4e3')\"\n",
              "            title=\"Suggest charts\"\n",
              "            style=\"display:none;\">\n",
              "\n",
              "<svg xmlns=\"http://www.w3.org/2000/svg\" height=\"24px\"viewBox=\"0 0 24 24\"\n",
              "     width=\"24px\">\n",
              "    <g>\n",
              "        <path d=\"M19 3H5c-1.1 0-2 .9-2 2v14c0 1.1.9 2 2 2h14c1.1 0 2-.9 2-2V5c0-1.1-.9-2-2-2zM9 17H7v-7h2v7zm4 0h-2V7h2v10zm4 0h-2v-4h2v4z\"/>\n",
              "    </g>\n",
              "</svg>\n",
              "  </button>\n",
              "\n",
              "<style>\n",
              "  .colab-df-quickchart {\n",
              "      --bg-color: #E8F0FE;\n",
              "      --fill-color: #1967D2;\n",
              "      --hover-bg-color: #E2EBFA;\n",
              "      --hover-fill-color: #174EA6;\n",
              "      --disabled-fill-color: #AAA;\n",
              "      --disabled-bg-color: #DDD;\n",
              "  }\n",
              "\n",
              "  [theme=dark] .colab-df-quickchart {\n",
              "      --bg-color: #3B4455;\n",
              "      --fill-color: #D2E3FC;\n",
              "      --hover-bg-color: #434B5C;\n",
              "      --hover-fill-color: #FFFFFF;\n",
              "      --disabled-bg-color: #3B4455;\n",
              "      --disabled-fill-color: #666;\n",
              "  }\n",
              "\n",
              "  .colab-df-quickchart {\n",
              "    background-color: var(--bg-color);\n",
              "    border: none;\n",
              "    border-radius: 50%;\n",
              "    cursor: pointer;\n",
              "    display: none;\n",
              "    fill: var(--fill-color);\n",
              "    height: 32px;\n",
              "    padding: 0;\n",
              "    width: 32px;\n",
              "  }\n",
              "\n",
              "  .colab-df-quickchart:hover {\n",
              "    background-color: var(--hover-bg-color);\n",
              "    box-shadow: 0 1px 2px rgba(60, 64, 67, 0.3), 0 1px 3px 1px rgba(60, 64, 67, 0.15);\n",
              "    fill: var(--button-hover-fill-color);\n",
              "  }\n",
              "\n",
              "  .colab-df-quickchart-complete:disabled,\n",
              "  .colab-df-quickchart-complete:disabled:hover {\n",
              "    background-color: var(--disabled-bg-color);\n",
              "    fill: var(--disabled-fill-color);\n",
              "    box-shadow: none;\n",
              "  }\n",
              "\n",
              "  .colab-df-spinner {\n",
              "    border: 2px solid var(--fill-color);\n",
              "    border-color: transparent;\n",
              "    border-bottom-color: var(--fill-color);\n",
              "    animation:\n",
              "      spin 1s steps(1) infinite;\n",
              "  }\n",
              "\n",
              "  @keyframes spin {\n",
              "    0% {\n",
              "      border-color: transparent;\n",
              "      border-bottom-color: var(--fill-color);\n",
              "      border-left-color: var(--fill-color);\n",
              "    }\n",
              "    20% {\n",
              "      border-color: transparent;\n",
              "      border-left-color: var(--fill-color);\n",
              "      border-top-color: var(--fill-color);\n",
              "    }\n",
              "    30% {\n",
              "      border-color: transparent;\n",
              "      border-left-color: var(--fill-color);\n",
              "      border-top-color: var(--fill-color);\n",
              "      border-right-color: var(--fill-color);\n",
              "    }\n",
              "    40% {\n",
              "      border-color: transparent;\n",
              "      border-right-color: var(--fill-color);\n",
              "      border-top-color: var(--fill-color);\n",
              "    }\n",
              "    60% {\n",
              "      border-color: transparent;\n",
              "      border-right-color: var(--fill-color);\n",
              "    }\n",
              "    80% {\n",
              "      border-color: transparent;\n",
              "      border-right-color: var(--fill-color);\n",
              "      border-bottom-color: var(--fill-color);\n",
              "    }\n",
              "    90% {\n",
              "      border-color: transparent;\n",
              "      border-bottom-color: var(--fill-color);\n",
              "    }\n",
              "  }\n",
              "</style>\n",
              "\n",
              "  <script>\n",
              "    async function quickchart(key) {\n",
              "      const quickchartButtonEl =\n",
              "        document.querySelector('#' + key + ' button');\n",
              "      quickchartButtonEl.disabled = true;  // To prevent multiple clicks.\n",
              "      quickchartButtonEl.classList.add('colab-df-spinner');\n",
              "      try {\n",
              "        const charts = await google.colab.kernel.invokeFunction(\n",
              "            'suggestCharts', [key], {});\n",
              "      } catch (error) {\n",
              "        console.error('Error during call to suggestCharts:', error);\n",
              "      }\n",
              "      quickchartButtonEl.classList.remove('colab-df-spinner');\n",
              "      quickchartButtonEl.classList.add('colab-df-quickchart-complete');\n",
              "    }\n",
              "    (() => {\n",
              "      let quickchartButtonEl =\n",
              "        document.querySelector('#df-a997a1ea-a245-4f94-9703-4e2d231bf4e3 button');\n",
              "      quickchartButtonEl.style.display =\n",
              "        google.colab.kernel.accessAllowed ? 'block' : 'none';\n",
              "    })();\n",
              "  </script>\n",
              "</div>\n",
              "\n",
              "    </div>\n",
              "  </div>\n"
            ]
          },
          "metadata": {},
          "execution_count": 5
        },
        {
          "output_type": "display_data",
          "data": {
            "text/plain": [
              "<google.colab._quickchart_helpers.SectionTitle at 0x7f26b9774b80>"
            ],
            "text/html": [
              "<h4 class=\"colab-quickchart-section-title\">Distributions</h4>\n",
              "<style>\n",
              "  .colab-quickchart-section-title {\n",
              "      clear: both;\n",
              "  }\n",
              "</style>"
            ]
          },
          "metadata": {}
        },
        {
          "output_type": "display_data",
          "data": {
            "text/plain": [
              "from matplotlib import pyplot as plt\n",
              "_df_0['Label'].plot(kind='hist', bins=20, title='Label')\n",
              "plt.gca().spines[['top', 'right',]].set_visible(False)"
            ],
            "text/html": [
              "      <div class=\"colab-quickchart-chart-with-code\" id=\"chart-3a63c184-9765-4113-8ac0-1db711c9dac0\">\n",
              "        <img style=\"width: 180px;\" src=\"data:image/png;base64,iVBORw0KGgoAAAANSUhEUgAAAiAAAAGrCAYAAAD5FiyaAAAAOXRFWHRTb2Z0d2FyZQBNYXRwbG90\n",
              "bGliIHZlcnNpb24zLjcuMSwgaHR0cHM6Ly9tYXRwbG90bGliLm9yZy/bCgiHAAAACXBIWXMAAA9h\n",
              "AAAPYQGoP6dpAAAag0lEQVR4nO3deYxV9dnA8efOYK+oMMDgFhAQWZQii+h0inUrwVbfVnAhjdaI\n",
              "VgulbazRRCXauIaxicUtMS4hWDWx0Io0dY3iVG1RwA23KqKMgLJYlcEFRrmc9w/TeZ2Cvlw65zfM\n",
              "8PkkN+Gec+acZ3Jy49d7z5xbyLIsCwCAhCraegAAYOcjQACA5AQIAJCcAAEAkhMgAEByAgQASE6A\n",
              "AADJCRAAIDkBAgAkJ0CAJBoaGqJQKMTSpUu3ex933HFH9O7duxWnAtqKAAHKcvTRR8ell17a1mMA\n",
              "7ZwAAQCSEyBAq3jllVdizJgxseeee0ZVVVV85zvficcff3yL7err62PIkCHRtWvXGDNmTLz11lvN\n",
              "60qlUvz+97+Pgw46KKqqqmLUqFExb968lL8GkIgAAVrNxRdfHMuXL4+1a9fGcccdFyeeeGKsXbu2\n",
              "xTa33357PPLII7F69erYf//948c//nFs2rQpIiKuuuqquOuuu2Lu3Lnx0UcfxaWXXhonnHBCi0gB\n",
              "OgYBArSKoUOHxtixY6Nz585RLBbj8ssvj0KhEAsWLGix3W9/+9vYb7/9YrfddovrrrsulixZEk8/\n",
              "/XRERFx33XXxu9/9LgYPHhwVFRVx4oknxujRo+Oee+5pi18JyFGnth4A6BiWL18eF154YcyfPz/W\n",
              "rVsXFRUVsX79+i3eAdl///2b/92lS5fo2bNnrFixItasWRPr16+PCRMmREXF//2/0RdffBEDBgxI\n",
              "9nsAaQgQoFX8/Oc/j6qqqli0aFHsvffekWVZdO/ePbIsa7FdQ0NDDB06NCIiPvnkk/jXv/4VvXv3\n",
              "jm7dusWuu+4a999/fxx55JFt8SsACfkIBihbqVSKjRs3tnh89NFHsccee0T37t3j008/jalTp8Yn\n",
              "n3yyxc9effXVsXLlyvjss8/iggsuiAEDBsTo0aOjWCzGL37xi7jwwgvjn//8Z2RZFhs2bIgnn3wy\n",
              "lixZ0ga/JZAnAQKU7ZprronOnTu3eJxyyimxePHi6N69ewwZMiR69eq11ZuGnX322TF27NjYe++9\n",
              "Y8mSJfHXv/41OnX68s3Ya6+9Nk499dSYMGFCdOvWLfr16xd1dXXxxRdfpP4VgZwVsv98fxQAIGfe\n",
              "AQEAkhMgAEByAgQASE6AAADJCRAAIDkBAgAkJ0AAgOR22AC54YYb2noEACAnO2yAvPPOO209AgCQ\n",
              "kx02QACAjkuAAADJCRAAIDkBAgAkJ0AAgOQECACQnAABAJITIABAcgIEAEhOgAAAyQkQACA5AQIA\n",
              "JNcprx1/8MEHMWbMmObnn332Wbz99tuxdu3a6NGjR16HBQDagdwCpLq6Ol588cXm59dee2088cQT\n",
              "4gMAyC9A/tOMGTOirq5uq+uampqiqampxbJSqZRiLACgDSQJkPnz58dHH30UP/rRj7a6vq6uLq64\n",
              "4ooWy2pra3Obp9/FD+Sy34Zr/ieX/QJAR5PkItQZM2bEGWecEZ06bb13pk6dGo2NjS0eNTU1KUYD\n",
              "ANpA7u+AfPLJJzF79uxYtGjR125TLBajWCy2WFZZWZn3aABAG8n9HZBZs2bF8OHD48ADD8z7UABA\n",
              "O5F7gMyYMSPOPvvsvA8DALQjuX8EM3/+/LwPAQC0M+6ECgAkJ0AAgOQECACQnAABAJITIABAcgIE\n",
              "AEhOgAAAyQkQACA5AQIAJCdAAIDkBAgAkJwAAQCSEyAAQHICBABIToAAAMkJEAAgOQECACQnQACA\n",
              "5AQIAJCcAAEAkhMgAEByAgQASE6AAADJCRAAIDkBAgAkJ0AAgOQECACQnAABAJITIABAcgIEAEhO\n",
              "gAAAyQkQACA5AQIAJCdAAIDkBAgAkJwAAQCSEyAAQHICBABIToAAAMkJEAAgOQECACSXa4A0NTXF\n",
              "r3/96xg4cGAcfPDBcfrpp+d5OACgneiU584vvvjiKBQKsWTJkigUCrF69eo8DwcAtBO5Bcinn34a\n",
              "M2bMiJUrV0ahUIiIiH322SevwwEA7UhuH8G89dZb0aNHj5g2bVoceuihccQRR8S8efO2um1TU1Os\n",
              "X7++xaNUKuU1GgDQxnILkE2bNsU777wTQ4YMiWeffTZuvPHG+MlPfhJr1qzZYtu6urqoqqpq8Vi4\n",
              "cGFeowEAbSy3AOnTp09UVFTET3/604iIGDlyZOy///7x8ssvb7Ht1KlTo7GxscWjpqYmr9EAgDaW\n",
              "W4D07NkzxowZE4888khERCxbtiyWLVsWBx100BbbFovF6Nq1a4tHZWVlXqMBAG0s17+CueWWW+Ls\n",
              "s8+Oiy66KCoqKuLWW2+NXr165XlIAKAdyDVA+vfvH/X19XkeAgBoh9wJFQBIToAAAMkJEAAgOQEC\n",
              "ACQnQACA5AQIAJCcAAEAkhMgAEByAgQASE6AAADJCRAAIDkBAgAkJ0AAgOQECACQnAABAJITIABA\n",
              "cgIEAEhOgAAAyQkQACA5AQIAJCdAAIDkBAgAkJwAAQCSEyAAQHICBABIToAAAMkJEAAgOQECACQn\n",
              "QACA5AQIAJCcAAEAkhMgAEByAgQASE6AAADJCRAAIDkBAgAkJ0AAgOQECACQnAABAJITIABAcgIE\n",
              "AEhOgAAAyeUaIP369YvBgwfHiBEjYsSIETFr1qw8DwcAtBOd8j7ArFmzYsSIEXkfBgBoR3IPkG3R\n",
              "1NQUTU1NLZaVSqU2mgYAyFvu14CcccYZcfDBB8fZZ58d77///la3qauri6qqqhaPhQsX5j0aANBG\n",
              "cg2QJ598Ml566aV4/vnno2fPnjFx4sStbjd16tRobGxs8aipqclzNACgDeX6EUyfPn0iImKXXXaJ\n",
              "8847LwYNGrTV7YrFYhSLxRbLKisr8xwNAGhDub0D8umnn8a6deuan99zzz0xcuTIvA4HALQjub0D\n",
              "smbNmjj55JOjVCpFlmXRv3//uPPOO/M6HADQjuQWIP37948XXnghr90DAO2YO6ECAMkJEAAgOQEC\n",
              "ACQnQACA5AQIAJCcAAEAkhMgAEByAgQASE6AAADJCRAAIDkBAgAkJ0AAgOQECACQnAABAJITIABA\n",
              "cgIEAEhOgAAAyQkQACA5AQIAJCdAAIDkBAgAkJwAAQCSEyAAQHICBABIToAAAMkJEAAgOQECACQn\n",
              "QACA5AQIAJCcAAEAkhMgAEByAgQASE6AAADJCRAAIDkBAgAkV3aAPPLII3nMAQDsRMoOkCuvvDIG\n",
              "Dx4cN9xwQ6xfvz6PmQCADq7sAPnHP/4Rf/zjH+OVV16JQYMGxS9/+ct47bXX8pgNAOigtusakJEj\n",
              "R8btt98eDz/8cNx///0xbNiwGDt2bLz88sutPR8A0AFtV4A89thjMW7cuDjppJPiV7/6VaxevTom\n",
              "T54cJ554YmvPBwB0QJ3K/YGDDjooevbsGeeee26cdNJJUVlZGRERp5xySsyYMaPVBwQAOp6y3wG5\n",
              "++6746mnnooJEyY0x8e/PfTQQ1v9mZkzZ0ahUIi5c+du15AAQMdSdoA899xz8eGHHzY//+CDD+L2\n",
              "22//2u0bGhri9ttvj9ra2u2bEADocMoOkJtvvjl69OjR/Ly6ujpuvvnmrW67efPmOOecc+Kmm26K\n",
              "YrH4tftsamqK9evXt3iUSqVyRwMA2omyAyTLsi2WfV0sTJ8+PQ4//PAYNWrUN+6zrq4uqqqqWjwW\n",
              "LlxY7mgAQDtRdoDsu+++MXv27Obns2bNin333XeL7V555ZW4995749JLL/1/9zl16tRobGxs8aip\n",
              "qSl3NACgnSj7r2Cuv/76GDduXFx44YUREbHbbrvFX/7yly22e+qpp6KhoSEGDhwYERGrV6+OSZMm\n",
              "xapVq2LKlCktti0Wi1t8RPOfF7gCAB1H2QFy4IEHxmuvvRZvvPFGREQMHjx4q7EwZcqUFqFx9NFH\n",
              "x3nnnRfjx4/f/mkBgA6h7ACJiCgUCtGtW7fYtGlTvPvuuxER0adPn1YdDADouMoOkDvuuCPOPffc\n",
              "2GWXXaKi4stLSAqFQqxdu/Ybf+5vf/vbdg0IAHQ8ZQfIVVddFYsWLYrBgwfnMQ8AsBMo+69gevbs\n",
              "KT4AgP9K2QEyfvz4uP7662Pt2rUtbhwGALCtyv4I5pJLLomIiPPPPz8KhUJkWRaFQsGdSwGAbVZ2\n",
              "gGzevDmPOQCAnUjZH8FEfPmFdHfddVdERKxbty5WrVrVqkMBAB3bdn0Z3c9+9rO4/PLLI+LLb8M9\n",
              "7bTTWnsuAKADKztAbrvttnjmmWeia9euERFxwAEHxPvvv9/qgwEAHVfZAVIsFqNz584tlnXqtF03\n",
              "VAUAdlJlB8iee+4ZS5YsiUKhEBFf3hnVbdgBgHJs17fhnnrqqfH666/HfvvtF127do37778/j9kA\n",
              "gA6q7AAZMGBALFiwIN54443Isuxrvw0XAODrlB0gy5cvj4iI3XffPSLCt+ECAGUrO0BGjRrVfAfU\n",
              "jRs3xmeffRbV1dX/77fhAgD8W9kB8p9/cjtnzpxYvHhxqw0EAHR823Un1K866aST4oEHHmiNWQCA\n",
              "nUTZ74B89ZtvS6VSLFiwwLfhAgBlKTtAunXr1nwNSGVlZQwcODBuvPHGPGYDADoo34YLACT3X18D\n",
              "AgBQrrLfAamoqGi+DftXZVkWhUIhSqVSqwwGAHRcZQfIlVdeGRs2bIgpU6ZERMQtt9wSnTt3jvPO\n",
              "O6+1ZwMAOqiyA+S+++6L5557rvn51VdfHaNGjYpLLrmkVQcDADqusq8B+fjjj1vc9XTt2rXx8ccf\n",
              "t+pQAEDHVvY7IBdccEEMHz48jj/++IiIePjhh+Pyyy9v7bkAgA6s7ACZPHlyHH744VFfXx8REeef\n",
              "f358+9vfbvXBAICOq+wAiYiorq6Ogw8+OI4++ujYtGlTfP755/Gtb32rtWcDADqosq8B+fOf/xy1\n",
              "tbVx1llnRUTEq6++GuPHj2/tuQCADqzsAKmrq4vnn38+unXrFhERw4cPj3feeae15wIAOrCyA6Sy\n",
              "sjKqq6tbLPPxCwBQjrIDpEuXLrFmzZrmu6HOmzcvevTo0eqDAQAdV9kXof7ud7+L4447Lt5+++34\n",
              "3ve+F8uWLYsHHnggj9kAgA6qrADZvHlzlEqlqK+vj/nz50eWZTF69Ojm60EAALZFWQFSUVERkyZN\n",
              "isWLF8dxxx2X10wAQAdX9jUgAwcOjKVLl+YxCwCwkyj7GpAPP/wwRowYEaNHj4499tijefmcOXNa\n",
              "dTAAoOPa5gCZNGlS3HbbbTFx4sQ44YQTonv37nnOBQB0YNscIM8++2xEREycODEOOeSQeP7553Mb\n",
              "CgDo2Mq+BiQiIsuy1p4DANiJbPM7IBs2bIiXX345siyLjRs3Nv/734YNG5bLgABAx1NWgJxwwgnN\n",
              "z7/670KhEG+//XbrTgYAdFjbHCANDQ1l7/zYY4+N1atXR0VFRXTp0iVuvPHGGDlyZNn7AQA6lrL/\n",
              "DLccs2fPbr5L6n333RdnnnlmLF68OM9DAgDtQK4B8tVbtDc2NjZ/gd1/ampqiqamphbLSqVSnqMB\n",
              "AG0o1wCJiDjjjDOivr4+IiIefPDBrW5TV1cXV1xxRYtltbW1eY8GALSR7foz3HLceeedsWLFirj6\n",
              "6qvjoosu2uo2U6dOjcbGxhaPmpqavEcDANpI7gHybxMnToz6+vr44IMPtlhXLBaja9euLR6VlZWp\n",
              "RgMAEsstQNatWxfvvfde8/O5c+dGdXV19OjRI69DAgDtRG7XgDQ2NsaECRNiw4YNUVFREXvuuWfc\n",
              "f//9X3shKgCw88gtQPr27RsLFy7Ma/cAQDuW7BoQAIB/EyAAQHICBABIToAAAMkJEAAgOQECACQn\n",
              "QACA5AQIAJCcAAEAkhMgAEByAgQASE6AAADJCRAAIDkBAgAkJ0AAgOQECACQnAABAJITIABAcgIE\n",
              "AEhOgAAAyQkQACA5AQIAJCdAAIDkBAgAkJwAAQCSEyAAQHICBABIToAAAMkJEAAgOQECACQnQACA\n",
              "5AQIAJCcAAEAkhMgAEByAgQASE6AAADJCRAAIDkBAgAkJ0AAgOQECACQnAABAJLLLUA2btwY48eP\n",
              "j0GDBsXw4cNj7NixsXTp0rwOBwC0I7m+AzJp0qR44403YvHixTFu3Lg455xz8jwcANBO5BYgu+66\n",
              "axx//PFRKBQiIqK2tjYaGhryOhwA0I50SnWgG264IcaNG7fVdU1NTdHU1NRiWalUSjEWANAGklyE\n",
              "Om3atFi6dGnU1dVtdX1dXV1UVVW1eCxcuDDFaABAG8g9QK699tqYM2dOPPTQQ7HbbrttdZupU6dG\n",
              "Y2Nji0dNTU3eowEAbSTXj2CmT58e99xzTzz22GPRrVu3r92uWCxGsVhssayysjLP0QCANpRbgKxc\n",
              "uTIuuOCC6N+/fxxzzDER8WVoLFiwIK9DAgDtRG4B0rt378iyLK/dAwDtmDuhAgDJCRAAIDkBAgAk\n",
              "J0AAgOQECACQnAABAJITIABAcgIEAEhOgAAAyQkQACA5AQIAJCdAAIDkBAgAkJwAAQCSEyAAQHIC\n",
              "BABIToAAAMkJEAAgOQECACQnQACA5AQIAJCcAAEAkhMgAEByAgQASE6AAADJCRAAIDkBAgAkJ0AA\n",
              "gOQECACQnAABAJITIABAcgIEAEhOgAAAyQkQACA5AQIAJCdAAIDkBAgAkJwAAQCSEyAAQHICBABI\n",
              "ToAAAMkJEAAguVwD5Nxzz41+/fpFoVCIF198Mc9DAQDtSK4Bcsopp8Tf//736Nu3b56HAQDamU55\n",
              "7vzII4/cpu2ampqiqampxbJSqZTHSADADiDXANlWdXV1ccUVV7RYVltb20bTAMCOod/FD+S274Zr\n",
              "/ie3fW+LHeIi1KlTp0ZjY2OLR01NTVuPBQDkZId4B6RYLEaxWGyxrLKyso2mAQDytkO8AwIA7Fxy\n",
              "DZDJkydH7969Y+XKlfGDH/wgBgwYkOfhAIB2ItePYG699dY8dw8AtFM+ggEAkhMgAEByAgQASE6A\n",
              "AADJCRAAIDkBAgAkJ0AAgOQECACQnAABAJITIABAcgIEAEhOgAAAyQkQACA5AQIAJCdAAIDkBAgA\n",
              "kJwAAQCSEyAAQHICBABIToAAAMkJEAAgOQECACQnQACA5AQIAJCcAAEAkhMgAEByAgQASE6AAADJ\n",
              "CRAAIDkBAgAkJ0AAgOQECACQnAABAJITIABAcgIEAEhOgAAAyQkQACA5AQIAJCdAAIDkBAgAkJwA\n",
              "AQCSyzVA3nzzzRg9enQMGjQoDjvssHj11VfzPBwA0E7kGiCTJ0+OSZMmxZIlS+Kiiy6KM888M8/D\n",
              "AQDtRG4Bsnbt2nj22Wfj9NNPj4iIk08+OVasWBFLly7dYtumpqZYv359i0epVMprNACgjXXKa8cr\n",
              "VqyIfffdNzp1+vIQhUIh+vTpE8uXL48BAwa02Lauri6uuOKKFssOPPDAOP/881t9rlKpFPsuXBg1\n",
              "NTVRWVnZqvs+//x5rbo//k+pVIqFOZ038uO8tU/O247jpDK2Lfe85fXfrL59+8ZvfvOb/3e7QpZl\n",
              "WR4DPPfcc3HaaafFG2+80byspqYmrrnmmvj+97/fYtumpqZoampqsaxYLEaxWGz1udavXx9VVVXR\n",
              "2NgYXbt2bfX9kw/nrX1y3ton5619am/nLbd3QPbbb79YtWpVbNq0KTp16hRZlsXy5cujT58+W2yb\n",
              "V2wAADum3K4B2WuvveKQQw6Ju+++OyIi7r333ujdu/cWH78AADuf3N4BiYi49dZb48wzz4xp06ZF\n",
              "165dY+bMmXkeDgBoJ3INkMGDB8fTTz+d5yHKViwW47LLLvORTzvjvLVPzlv75Ly1T+3tvOV2ESoA\n",
              "wNdxK3YAIDkBAgAkJ0AAgOQECACQ3E4VIL6dd8dx7rnnRr9+/aJQKMSLL77YvPybztH2rqN1bNy4\n",
              "McaPHx+DBg2K4cOHx9ixY5u/22nt2rXxwx/+MAYOHBhDhw6NJ598svnntncdrefYY4+NYcOGxYgR\n",
              "I+KII46IF154ISK83tqLmTNnRqFQiLlz50ZEB3q9ZTuRY445Jps5c2aWZVn2pz/9KTv00EPbdqCd\n",
              "2BNPPJGtWLEi69u3b/bCCy80L/+mc7S962gdGzZsyB544IFs8+bNWZZl2U033ZQdddRRWZZl2Vln\n",
              "nZVddtllWZZl2cKFC7NevXpln3/++X+1jtbz0UcfNf97zpw52bBhw7Is83prD5YtW5Z997vfzWpr\n",
              "a7P77rsvy7KO83rbaQJkzZo1WZcuXbIvvvgiy7Is27x5c7b33ntnb775ZhtPtnP7aoB80zna3nXk\n",
              "Z9GiRVnfvn2zLMuy3XffPVu1alXzusMOOyx79NFH/6t15GPmzJnZ8OHDvd7agVKplI0ZMyZ79tln\n",
              "s6OOOqo5QDrK6y3XG5HtSMr5dl7axjedo6qqqu1a59zm54Ybbohx48bFBx98EF988UXss88+zev6\n",
              "9esXy5cv3+51tL4zzjgj6uvrIyLiwQcf9HprB6ZPnx6HH354jBo1qnlZR3q97TQBArSeadOmxdKl\n",
              "S2PevHmxYcOGth6HbXDnnXdGRMQf/vCHuOiii+Kqq65q44n4Jq+88krce++9bX+dRo52motQv/rt\n",
              "vBHxjd/OS9v4pnO0vetofddee23MmTMnHnroodhtt92iuro6OnXqFKtXr27epqGhIfr06bPd68jP\n",
              "xIkTo76+Pnr37u31tgN76qmnoqGhIQYOHBj9+vWLZ555JiZNmhSzZ8/uMK+3nSZAfDvvju+bztH2\n",
              "rqN1TZ8+Pe6555549NFHo1u3bs3LJ0yYELfccktERCxatCjefffdOOqoo/6rdbSOdevWxXvvvdf8\n",
              "fO7cuVFdXe31toObMmVKrFq1KhoaGqKhoSFqa2vjtttuiylTpnSc11ubXX3SBl5//fWstrY2Gzhw\n",
              "YDZq1KjspZdeauuRdlqTJk3KevXqlVVWVmZ77bVXdsABB2RZ9s3naHvX0TpWrFiRRUTWv3//bPjw\n",
              "4dnw4cOzmpqaLMuybPXq1dnYsWOzAQMGZEOGDMkef/zx5p/b3nW0joaGhuywww7Lhg4dmg0bNiwb\n",
              "M2ZM84XfXm/tx1cvQu0orzdfRgcAJLfTfAQDAOw4BAgAkJwAAQCSEyAAQHICBABIToAAAMkJEAAg\n",
              "OQECACQnQACA5AQIAJDc/wIPkyJN8znIVAAAAABJRU5ErkJggg==\n",
              "\">\n",
              "      </div>\n",
              "      <script type=\"text/javascript\">\n",
              "        (() => {\n",
              "          const chartElement = document.getElementById(\"chart-3a63c184-9765-4113-8ac0-1db711c9dac0\");\n",
              "          async function getCodeForChartHandler(event) {\n",
              "            const chartCodeResponse =  await google.colab.kernel.invokeFunction(\n",
              "                'getCodeForChart', [\"chart-3a63c184-9765-4113-8ac0-1db711c9dac0\"], {});\n",
              "            const responseJson = chartCodeResponse.data['application/json'];\n",
              "            await google.colab.notebook.addCell(responseJson.code, 'code');\n",
              "          }\n",
              "          chartElement.onclick = getCodeForChartHandler;\n",
              "        })();\n",
              "      </script>\n",
              "      <style>\n",
              "        .colab-quickchart-chart-with-code  {\n",
              "            display: block;\n",
              "            float: left;\n",
              "            border: 1px solid transparent;\n",
              "        }\n",
              "\n",
              "        .colab-quickchart-chart-with-code:hover {\n",
              "            cursor: pointer;\n",
              "            border: 1px solid #aaa;\n",
              "        }\n",
              "      </style>"
            ]
          },
          "metadata": {}
        },
        {
          "output_type": "display_data",
          "data": {
            "text/plain": [
              "<google.colab._quickchart_helpers.SectionTitle at 0x7f26b9774ca0>"
            ],
            "text/html": [
              "<h4 class=\"colab-quickchart-section-title\">Categorical distributions</h4>\n",
              "<style>\n",
              "  .colab-quickchart-section-title {\n",
              "      clear: both;\n",
              "  }\n",
              "</style>"
            ]
          },
          "metadata": {}
        },
        {
          "output_type": "display_data",
          "data": {
            "text/plain": [
              "from matplotlib import pyplot as plt\n",
              "import seaborn as sns\n",
              "_df_1.groupby('index').size().plot(kind='barh', color=sns.palettes.mpl_palette('Dark2'))\n",
              "plt.gca().spines[['top', 'right',]].set_visible(False)"
            ],
            "text/html": [
              "      <div class=\"colab-quickchart-chart-with-code\" id=\"chart-deef5439-f425-4321-829a-5a6e65e39b3d\">\n",
              "        <img style=\"width: 180px;\" src=\"data:image/png;base64,iVBORw0KGgoAAAANSUhEUgAAAjgAAAGZCAYAAACE3UsgAAAAOXRFWHRTb2Z0d2FyZQBNYXRwbG90\n",
              "bGliIHZlcnNpb24zLjcuMSwgaHR0cHM6Ly9tYXRwbG90bGliLm9yZy/bCgiHAAAACXBIWXMAAA9h\n",
              "AAAPYQGoP6dpAAAiEklEQVR4nO3df3AU9f3H8dcmwQs2JkGoIf7AECCgIT+AJCgSShAKClQqlgAG\n",
              "kMoPfzAqKAqdfqFVSLQi1Op0pIowQMEUUcSqoIggoIIRY0BKmx8EUBNRgUQCXHK5/f7hNO3JjyaQ\n",
              "yx6fPB8zO+Nd9u7eu8OY5+xubi3btm0BAAAYJMjpAQAAABobgQMAAIxD4AAAAOMQOAAAwDgEDgAA\n",
              "MA6BAwAAjEPgAAAA4xA4AADAOAQOAAAwTrMOnKefftrpEQAAgB8068DZv3+/0yMAAAA/aNaBAwAA\n",
              "zETgAAAA4xA4AADAOAQOAAAwDoEDAACMQ+AAAADjEDgAAMA4BA4AADAOgQMAAIxj2bZtOz2EU8bH\n",
              "W5qZSuMBANCY4pbUOj0CR3AAAIB5CBwAAGAcAgcAABiHwAEAAMYhcAAAgHEIHAAAYBwCBwAAGOeC\n",
              "CJzS0lI999xzZ10nJSVFmzZtapqBAABAQDMmcAAAAP4txOkBfuzEiRO64447tGvXLrVo0UJRUVE6\n",
              "cOCA9u/fr+TkZLVr105r167VBx98oHvuuUcej0epqanyeDxOjw4AAAJEwAXOunXrdPToUe3Zs0eS\n",
              "dPjwYRUUFOiBBx5Qfn6+JKm6ulqZmZlavHix+vfvr7fffltLliw56/u63W653W6f52q9/tgCAADg\n",
              "tIA7RZWUlKR//OMfuueee5Sbm6sWLVqcss7evXsVEhKi/v37S5J+/vOfKzY29qzvm5OTo4iICJ+l\n",
              "4Fu/bAIAAHBYwAVObGys9uzZo0GDBmnbtm3q2rWrjhw58j9fZ1nWWX8+c+ZMVVRU+CyJbRpragAA\n",
              "EEgCLnC++OILWZalX/ziF5o3b55s21br1q1VUVFRt06XLl3k8Xj03nvvSZI2bNig4uLis76vy+VS\n",
              "eHi4zxIccFsPAAAaQ8Bdg7Nr1y7NnDlTtm3L4/FozJgx6tWrl+Lj49W1a1fFxsZq7dq1ys3N1T33\n",
              "3KPa2lqlpqYqKSnJ6dEBAECAsGzbtp0ewinj4y3NTOUwDgAAjSluSa3TIwTeKSoAAIDzReAAAADj\n",
              "EDgAAMA4BA4AADAOgQMAAIxD4AAAAOME3PfgNKVWA6cqbv58p8cAAACNjCM4AADAOAQOAAAwDoED\n",
              "AACMQ+AAAADjEDgAAMA4BA4AADAOgQMAAIxD4AAAAOMQOAAAwDgEDgAAMA6BAwAAjEPgAAAA4xA4\n",
              "AADAOAQOAAAwDoEDAACMQ+AAAADjEDgAAMA4BA4AADAOgQMAAIxD4AAAAOMQOAAAwDgEDgAAMI5l\n",
              "27bt9BBOCRuYqsiRNzo9BgAARvli/ONOj8ARHAAAYB4CBwAAGIfAAQAAxiFwAACAcQgcAABgHAIH\n",
              "AAAYh8ABAADGuaAC56uvvlJ6errTYwAAgAB3QQXO5Zdfri1btjg9BgAACHABETiWZWnu3Lnq2bOn\n",
              "YmJitGbNGuXk5CglJUWdOnXSpk2bJEmlpaWKjIz0eV12drbS0tLUvn17LV682JkNAAAAASUgAkeS\n",
              "wsLCtH37di1atEhZWVmKjo5WXl6esrOzNX369DO+zuVyaceOHXrrrbd03333yePxnHY9t9utyspK\n",
              "n0W1zfYuFQAAGC1gAiczM1OSlJKSoqqqKo0cOVKSlJaWpsLCwjO+7vbbb5ckdenSRSEhISovLz/t\n",
              "ejk5OYqIiPBZqveVNfJWAACAQBAwgRMaGipJCg4OPuXxmY7K/Pd6/2vdmTNnqqKiwme5qH10Y40P\n",
              "AAACSIjTAzQVl8sll8vl+2Sw5cwwAADArwLmCA4AAEBjCYgjOLb9n4t9w8LCfB5feeWVOnbsmCQp\n",
              "JiZGR48ePe3rJOnbb7/176AAAOCCwBEcAABgHAIHAAAYh8ABAADGIXAAAIBxCBwAAGAcAgcAABiH\n",
              "wAEAAMYJiO/Bccqk+HTNH/+402MAAIBGxhEcAABgHAIHAAAYh8ABAADGIXAAAIBxCBwAAGAcAgcA\n",
              "ABiHwAEAAMYhcAAAgHEIHAAAYBwCBwAAGIfAAQAAxiFwAACAcQgcAABgHAIHAAAYh8ABAADGIXAA\n",
              "AIBxCBwAAGAcAgcAABiHwAEAAMYhcAAAgHEIHAAAYBwCBwAAGCfE6QGcVPWvBSp7+WmnxwAAwCjR\n",
              "t9U6PQJHcAAAgHkIHAAAYBwCBwAAGIfAAQAAxiFwAACAcQgcAABgHAIHAAAYh8ABAADGIXAAAIBx\n",
              "/BY4lmVp7ty56tmzp2JiYrRmzRrl5OQoJSVFnTp10qZNm+rWXb9+vXr37q0ePXooLS1N7733niSp\n",
              "vLxcGRkZ6tGjh+Lj4zVlyhR5vV5J0pIlS9S/f3+NGjVKCQkJSklJUUlJyRnncbvdqqys9Flqvf7a\n",
              "egAA4CS/HsEJCwvT9u3btWjRImVlZSk6Olp5eXnKzs7W9OnTJUklJSX63e9+pzfffFOffPKJVqxY\n",
              "odGjR8vtdisyMlKvv/66PvnkExUUFKi0tFR/+9vf6t7/448/VnZ2tnbt2qX+/fvriSeeOOMsOTk5\n",
              "ioiI8Fk+LfLn1gMAAKf4NXAyMzMlSSkpKaqqqtLIkSMlSWlpaSosLJQkrVu3TkVFRerTp4+Sk5N1\n",
              "2223KSgoSAcOHJDX69UjjzyipKQkdevWTXl5ecrPz697/+uvv17t27ev++/i4uIzzjJz5kxVVFT4\n",
              "LN06+mnDAQCAo/x6s83Q0FBJUnBw8CmPPR6PJMm2bQ0YMEArVqw45fVz5szRoUOHtH37doWGhmra\n",
              "tGk6efLkKe//4/c8HZfLJZfL5fNcMFcgAQBgJMd/xQ8cOFAbNmxQQUFB3XM7duyQJB05ckRt27ZV\n",
              "aGioysvLtWrVKqfGBAAAFxC/HsGpj44dO2rFihWaPHmyjh8/rurqanXr1k0rVqzQ/fffr9tuu03x\n",
              "8fG6/PLL1b9/f6fHBQAAFwDLtm3b6SGcMnmIpd/d4fhBLAAAjBJ9W63TIzh/igoAAKCxETgAAMA4\n",
              "BA4AADAOgQMAAIxD4AAAAOMQOAAAwDiOfw+Ok34SN1XRt813egwAANDIOIIDAACMQ+AAAADjEDgA\n",
              "AMA4BA4AADAOgQMAAIxD4AAAAOMQOAAAwDgEDgAAMA6BAwAAjEPgAAAA4xA4AADAOAQOAAAwDoED\n",
              "AACMQ+AAAADjEDgAAMA4BA4AADAOgQMAAIxD4AAAAOMQOAAAwDgEDgAAMA6BAwAAjEPgAAAA41i2\n",
              "bdtOD+GUxJvDdf2YVk6PAQCAURaO2u/0CBzBAQAA5iFwAACAcQgcAABgHAIHAAAYh8ABAADGIXAA\n",
              "AIBxCBwAAGAcAgcAABiHwAEAAMZxLHAsy9LcuXPVs2dPxcTEaM2aNcrJyVFKSoo6deqkTZs2SZI8\n",
              "Ho8GDhyolJQUxcfHa/To0aqqqpIk/fWvf1VKSorcbrds29bQoUM1d+7c036e2+1WZWWlz+L1Ntsv\n",
              "cQYAwGiOHsEJCwvT9u3btWjRImVlZSk6Olp5eXnKzs7W9OnTJUnBwcFasWKF8vLytHv3bkVEROiZ\n",
              "Z56RJN1+++3q0aOHHnzwQc2bN08ej0e/+c1vTvtZOTk5ioiI8Fm+Ka5usm0FAABNx7F7UVmWpbKy\n",
              "MrVt21YVFRWKjIzUiRMnFBoaqv379yspKUlHjx6V1+vVrFmz9MYbb8jj8aiiokK9evXSSy+9JEk6\n",
              "efKkevbsqSNHjmjnzp1q06bNaT/P7XbL7Xb7PNdrxBW6Ydylft9WAACak0C4F1WIkx8eGhoq6Yej\n",
              "ND9+7PF4JEkrVqzQxo0btXnzZoWHh+tPf/qTNm7cWPcehw4d0pEjR+T1enX06NEzBo7L5ZLL5fJ5\n",
              "LijIavRtAgAAznM0cOrjyJEjatOmjcLDw/X9999ryZIlateunaQfrs8ZOXKkHnvsMbVs2VIjRozQ\n",
              "hx9+eErIAACA5iXg/4pq7NixOn78uDp37qybbrpJ6enpdT+bMWOGOnfurHHjxmnEiBG6/vrr9cAD\n",
              "Dzg3LAAACAiOXYMTCBJvDtf1Y1o5PQYAAEYJhGtwAv4IDgAAQEMROAAAwDgEDgAAMA6BAwAAjNMo\n",
              "gVNdzTcCAwCAwNHgwLn55pt1+PDhusfFxcXq1atXow4FAABwPhr8RX/9+vVTamqqli9froMHD+qh\n",
              "hx7S/Pnz/TGb3/XvMkHzR12YswMAgDNrcOA89NBDSk1NVUZGhlq3bq0tW7YoNjbWH7MBAACckwaf\n",
              "oiotLdX06dM1btw4xcTEaO7cuTp58qQ/ZgMAADgnDQ6c9PR0TZs2TQsXLtT777+vVq1aKS0tzR+z\n",
              "AQAAnJMGn6J69913FRcXJ+mHu37PmzdPb7zxRqMPBgAAcK4afAQnNjZWTz31lO6++25JP/wVVcuW\n",
              "LRt9MAAAgHPV4CM4U6ZMUW1trbZu3SpJat26tTIzM5WXl9fowwEAAJyLBgfORx99pPz8fHXr1k2S\n",
              "FBkZqZqamkYfDAAA4Fw1+BRVaGioz+Pa2lp5vd5GGwgAAOB8NThwEhMTtXz5cnm9XhUVFemuu+5S\n",
              "3759/TAaAADAuWlw4MyfP19btmxReXm5brjhBgUFBenxxx/3x2wAAADnpMHX4ISFhWnhwoVauHCh\n",
              "P+YBAAA4b/UOnKVLl57152PHjj3vYQAAABpDvQPn9ddflyRVVlZq8+bN6t27tyzL0tatW/Wzn/2M\n",
              "wAEAAAGj3oGzatUqSdIvf/lL5eXlqWvXrpKkzz//XLNmzfLPdAAAAOegwRcZFxUV1cWNJMXHx6uw\n",
              "sLBRhwIAADgfDQ6c8PBwLVmyRLZty7ZtLVmyRGFhYf6YDQAA4Jw0OHBefPFF/fnPf5bL5VJoaKie\n",
              "e+45LV682B+zAQAAnJMG/5l4586dtWPHDn3//feSpEsuuaTRhwIAADgfDQ4cSSorK9O+ffvk8Xjq\n",
              "nuvTp0+jDQUAAHA+Ghw4c+fO1ZNPPqnY2FgFBwdLkizL0o4dOxp9OAAAgHPR4MB58cUXVVxcrNat\n",
              "W/tjHgAAgPPW4IuMo6KiiBsAABDQLNu27Ya8YPbs2aqoqNDo0aMVGhpa93xiYmKjD+dvk1v30e+j\n",
              "hjo9BgAARmm7Z7rTIzT8FNW/70n12muv1T1nWZZKSkoabyoAAIDz0ODA2bdvnz/mAAAAaDT1Dpyq\n",
              "qir95Cc/UWVl5Wl/Hh4e3mhDAQAAnI96B056erp27typyMhIWZal/750x7Is1dbW+mVAAACAhqp3\n",
              "4OzcuVOS5PV6/TYMAABAY2jwn4kDAAAEOgIHAAAYx4jA+eMf/6jy8nKnxwAAAAGCwAEAAMbxa+B8\n",
              "+OGH6t27t5KSkpSYmKjXXntNeXl56tWrlxITE5WWlqZt27ZJkkpLSxUZGVn32mPHjsmyrLrHlmUp\n",
              "OztbaWlpat++vRYvXixJevTRR/XVV18pMzNTycnJys/P9+cmAQCAC0CDv+ivvg4fPqxhw4bp5Zdf\n",
              "Vnp6urxer7799lulpKTo+eef18CBA7V161YNHz5cRUVF9XpPl8ulHTt2aO/evUpNTdWYMWM0a9Ys\n",
              "vfjii8rNzVVycvIZX+t2u+V2u32eq7X5izAAAEzktyM4H374oTp37qz09PQfPigoSF9//bWCgoI0\n",
              "cOBASVLv3r0VFRVV76Mut99+uySpS5cuCgkJadBpqZycHEVERPgs+ScONmyjAADABcHxa3D+fRoq\n",
              "JCTE58sCT548ecq6/31zz+DgYHk8nnp/zsyZM1VRUeGzJLe86jwmBwAAgcpvgdOrVy8VFhZqy5Yt\n",
              "kn74gsCoqCh5vV698847kqQPPvhA5eXlSk5OVtu2bWXbtvbs2SPpPzf1rI/w8HBVVFScdR2Xy6Xw\n",
              "8HCfJdhyvO8AAIAf+O03fKtWrfTqq69qxowZSkxMVPfu3bV9+3a98sormj17thITE/XAAw/o5Zdf\n",
              "VlhYmEJCQvTMM89oyJAhSk1NVU1NTb0/67777tPEiRO5yBgAAEiSLPu/byrVzExu3Ue/jxrq9BgA\n",
              "ABil7Z7pTo/g/DU4AAAAjY3AAQAAxiFwAACAcQgcAABgHAIHAAAYh8ABAADG8du9qC4EPxmXorbz\n",
              "nf9TNgAA0Lg4ggMAAIxD4AAAAOMQOAAAwDgEDgAAMA6BAwAAjEPgAAAA4xA4AADAOAQOAAAwDoED\n",
              "AACMQ+AAAADjEDgAAMA4BA4AADAOgQMAAIxD4AAAAOMQOAAAwDgEDgAAMA6BAwAAjEPgAAAA4xA4\n",
              "AADAOAQOAAAwDoEDAACMQ+AAAADjWLZt204P4ZSU7sPU72cTnB4DAACj/GHBEKdH4AgOAAAwD4ED\n",
              "AACMQ+AAAADjEDgAAMA4BA4AADAOgQMAAIxD4AAAAOM4EjjfffedkpOT65a4uDiFhITo8OHD6tu3\n",
              "r9q3b1/3swULFtS9bvLkyUpISFC/fv1UUVEhSbJtWzfddJOKi4ud2BQAABCAQpz40NatWys/P7/u\n",
              "8bx587R582ZdeumlkqQFCxZo2LBhPq/ZvXu3CgsLtWvXLj366KNatmyZpkyZohdeeEEZGRnq0KFD\n",
              "E24BAAAIZI4Ezo8tWrRIOTk5Z12nRYsWcrvd8nq9qqqqUtu2bVVWVqaVK1fq7bffbqJJAQDAhcDx\n",
              "a3A++OADHTlyREOG/OdrnWfMmKGEhARlZmaqpKREktS5c2dlZGSoe/fuKikpUVZWlqZOnaonn3xS\n",
              "ISH/u9PcbrcqKyt9Ftvr9dt2AQAA5zgeOIsWLdLYsWPrImXZsmXau3evCgoKlJ6e7hM+c+bMUX5+\n",
              "vlatWqV33nlHV111lWJiYjR+/HgNHz5cubm5Z/ycnJwcRURE+CxlX//L79sHAACanqM32zx27Jii\n",
              "o6P18ccfq0uXLqddJzQ0VF9++aVat25d91xlZaUGDx6s9evXKycnRx06dFBWVpaSkpKUl5enli1b\n",
              "nvI+brdbbrfb57mMPlm6MWNS424UAADNXCDcbNPRa3Byc3OVlJRUFzcej0ffffedoqKiJEmrV69W\n",
              "VFSUT9xIP5zCmjVrli6++GJVVVXJsixZlqWamhpVV1efNnBcLpdcLpfPc1aQ4wewAACAHzgaOIsW\n",
              "LdLEiRPrHrvdbg0ePFhut1tBQUFq06aN1q5d6/Oabdu26cSJExowYIAk6d5779WoUaP0xBNPaMyY\n",
              "MYqIiGjSbQAAAIHH0VNUTkvpPkz9fjbB6TEAADBKIJyi4hwNAAAwDoEDAACMQ+AAAADjEDgAAMA4\n",
              "BA4AADAOgQMAAIwTEDfbdEqfvrH6w3zn/5QNAAA0Lo7gAAAA4xA4AADAOAQOAAAwDoEDAACMQ+AA\n",
              "AADjEDgAAMA4BA4AADAOgQMAAIxD4AAAAOMQOAAAwDgEDgAAMA6BAwAAjEPgAAAA4xA4AADAOAQO\n",
              "AAAwDoEDAACMQ+AAAADjEDgAAMA4BA4AADAOgQMAAIxD4AAAAOMQOAAAwDiWbdu200M4ZXy8pZmp\n",
              "NB4AAI0pbkmt0yNwBAcAAJiHwAEAAMYhcAAAgHEIHAAAYBwCBwAAGIfAAQAAxiFwAACAcRwLnJiY\n",
              "GHXu3FnJyclKTk5Wbm6uJKmwsFC9evVSXFycUlNT9fnnn0uSampqNGzYMCUlJenWW2+Vx+ORJJ08\n",
              "eVJ9+vTRkSNHnNoUAAAQYBw9gpObm6v8/Hzl5+crMzNTkjR58mRNmjRJ//rXv/TII4/ojjvukCSt\n",
              "X79el156qT777DNFRkZq3bp1kqTHHntMU6ZMUatWrZzaDAAAEGAC6hTVoUOHlJeXp6ysLEnS8OHD\n",
              "dfDgQRUVFalFixY6fvy4JOn48eO66KKLVFBQoL1792rEiBFOjg0AAAKMo4EzduxYJSQk6M4779Q3\n",
              "33yjgwcPKjo6WiEhIZIky7LUrl07HThwQAMGDNAll1yipKQkRUREqF+/fpo2bZqefvrpen2W2+1W\n",
              "ZWWlz1Lr9efWAQAApzgWOO+//74KCgq0c+dOtWnTRuPGjTvr+kFBQXr++ef12WefaeHChXr22Wc1\n",
              "bNgweTwejR49WsOHD9fGjRvP+PqcnBxFRET4LAXfNvZWAQCAQBAQN9ssKytTXFyciouL1bFjRx0+\n",
              "fFghISGybVvR0dHaunWrOnbsWLf+/v37NXHiRK1bt07jxo3TnXfeqR49eui6666ruyj5x9xut9xu\n",
              "t89zU3pG6Lc9A+osHQAAF7xme7PNqqoqHT16tO7xypUr1a1bN1122WXq3r27li9fLklavXq1rrzy\n",
              "Sp+4kaT7779fCxYsUFBQkKqqqmRZVt1/n4nL5VJ4eLjPEkzbAABgpBAnPvTrr7/W8OHDVVtbK9u2\n",
              "FRsbq6VLl0qSFi5cqDvuuEPZ2dkKDw/X4sWLfV67YsUKJSUlKT4+XpI0Y8YMTZw4UdXV1fq///u/\n",
              "Jt8WAAAQeALiFJVTxsdbmpnKYRwAABpTsz1FBQAA4E8EDgAAMA6BAwAAjEPgAAAA4xA4AADAOAQO\n",
              "AAAwDoEDAACM48gX/QWKVgOnKm7+fKfHAAAAjYwjOAAAwDgEDgAAMA6BAwAAjEPgAAAA4xA4AADA\n",
              "OAQOAAAwDoEDAACMQ+AAAADjEDgAAMA4BA4AADAOgQMAAIxD4AAAAOMQOAAAwDgEDgAAMA6BAwAA\n",
              "jEPgAAAA4xA4AADAOAQOAAAwDoEDAACMQ+AAAADjEDgAAMA4BA4AADCOZdu27fQQTgkbmKrIkTc6\n",
              "PQYAAEb5YvzjTo/AERwAAGAeAgcAABiHwAEAAMYhcAAAgHEIHAAAYBwCBwAAGMeRwDl58qSGDRum\n",
              "uLg4JSUlacCAASoqKpIk9e3bV+3bt1dycrKSk5O1YMGCutdNnjxZCQkJ6tevnyoqKiRJtm3rpptu\n",
              "UnFxsRObAgAAApBjR3AmTZqkf/7zn/rss890yy23aMKECXU/W7BggfLz85Wfn6+pU6dKknbv3q3C\n",
              "wkLt2rVLffv21bJlyyRJL7zwgjIyMtShQwdHtgMAAAQeRwInNDRUN998syzLkiRdd911Ki0tPetr\n",
              "WrRoIbfbLa/Xq6qqKl100UUqKyvTypUrNW3atCaYGgAAXCgC4hqcp59+Wrfcckvd4xkzZighIUGZ\n",
              "mZkqKSmRJHXu3FkZGRnq3r27SkpKlJWVpalTp+rJJ59USEjI//wMt9utyspKn0W1zfZLnAEAMJrj\n",
              "gZOdna2ioiLl5ORIkpYtW6a9e/eqoKBA6enpGjJkSN26c+bMUX5+vlatWqV33nlHV111lWJiYjR+\n",
              "/HgNHz5cubm5Z/ycnJwcRURE+CzV+8r8vn0AAKDpOXovqnnz5umll17Shg0bFBkZedp1QkND9eWX\n",
              "X6p169Z1z1VWVmrw4MFav369cnJy1KFDB2VlZSkpKUl5eXlq2bLlKe/jdrvldrt9nrv81n6KvL1/\n",
              "o24TAADNXSDci+p/n9vxk/nz52vlypU+cePxePTdd98pKipKkrR69WpFRUX5xI30wymsWbNm6eKL\n",
              "L1ZVVZUsy5JlWaqpqVF1dfVpA8flcsnlcvk+GWz5ZdsAAICzHAmcL774Qg8++KBiY2OVkZEh6YcA\n",
              "2bhxowYPHiy3262goCC1adNGa9eu9Xnttm3bdOLECQ0YMECSdO+992rUqFF64oknNGbMGEVERDT5\n",
              "9gAAgMDi6Ckqp4UNTFXkyBudHgMAAKMEwikqxy8yBgAAaGwEDgAAMA6BAwAAjEPgAAAA4xA4AADA\n",
              "OAQOAAAwDoEDAACM49g3GQeCSfHpmh8Af6sPAAAaF0dwAACAcQgcAABgHAIHAAAYh8ABAADGIXAA\n",
              "AIBxCBwAAGAcAgcAABiHwAEAAMYhcAAAgHEIHAAAYJxme6sGt9utt956S7W1tQoODnZ6nGajtrZW\n",
              "O3bsUFpaGvu9ibHvncF+dw773hlNsd+vvvpq3X///Wddx7Jt2/bLpwe4yspKRUREqKKiQuHh4U6P\n",
              "02yw353DvncG+9057HtnBMp+5xQVAAAwDoEDAACMQ+AAAADjNNvAcblcmj17tlwul9OjNCvsd+ew\n",
              "753BfncO+94ZgbLfm+1FxgAAwFzN9ggOAAAwF4EDAACMQ+AAAADjGB84hYWF6tWrl+Li4pSamqrP\n",
              "P//8tOstWrRInTp1UocOHTRx4kTV1NQ08aRmqc9+37hxo9LS0nTttdcqPj5eDz/8sLxerwPTmqW+\n",
              "/+YlybZt9evXT5GRkU03oKHqu9937dqlvn376pprrtE111yjV155pYknNU999r3X69W0adN07bXX\n",
              "KjExURkZGSoqKnJgWnPcd999iomJkWVZys/PP+N6jv1+tQ2XkZFhL1682LZt2161apWdkpJyyjol\n",
              "JSV2dHS0XVZWZnu9Xnvo0KH2s88+28STmqU++33nzp12cXGxbdu2feLECfuGG26oew3OXX32/b89\n",
              "9dRT9oQJE+yIiIimGc5g9dnvVVVVdvv27e0tW7bYtm3bHo/HPnToUFOOaaT67PtXX33VTktLs6ur\n",
              "q23btu3HHnvM/tWvftWUYxpn8+bN9sGDB+2rr77a/vTTT0+7jpO/X40OnK+//tq+5JJL7JqaGtu2\n",
              "bdvr9dpRUVF2YWGhz3p/+MMf7MmTJ9c9fuONN+wbbrihSWc1SX33+4/de++99uzZs5tgQnM1ZN/v\n",
              "3r3bTk9Pt4uKigic81Tf/f7888/bo0aNcmJEY9V3369Zs8ZOSkqyKysrba/Xa0+fPt2eOnWqEyMb\n",
              "52yB4+TvV6NPUR08eFDR0dEKCfnhnqKWZaldu3Y6cOCAz3oHDhzQ1VdfXfc4JibmlHVQf/Xd7/+t\n",
              "vLxcL7/8soYMGdJUYxqpvvu+pqZGEydO1MKFC7kJYSOo737fs2ePXC6XhgwZouTkZI0dO1bffPON\n",
              "EyMbo777fujQoerbt6/atm2r6Ohovfvuu3r00UedGLlZcfL3q9GBgwtDZWWlhg4dqocfflgpKSlO\n",
              "j9Ms/P73v9ett96qa665xulRmhWPx6MNGzZo4cKF+vTTT3XFFVfo7rvvdnqsZiEvL0+7d+/Wl19+\n",
              "qa+++ko33nij7rrrLqfHgh8ZHThXXXWVysrK5PF4JP1wQeWBAwfUrl07n/XatWun/fv31z0uLS09\n",
              "ZR3UX333uyR9//33GjRokG655RZNmzatqUc1Tn33/ebNm/XMM88oJiZGvXv3VmVlpWJiYjiacI4a\n",
              "8v+ajIwMXXHFFbIsS1lZWfroo4+cGNkY9d33S5curbugPigoSOPGjdN7773nxMjNipO/X40OnMsu\n",
              "u0zdu3fX8uXLJUmrV6/WlVdeqY4dO/qsN3z4cK1du1bl5eWybVvPPfecRo4c6cTIRqjvfj927JgG\n",
              "DRqkQYMG6be//a0Toxqnvvt+y5Yt2r9/v0pLS7V161aFh4ertLRUP/3pT50Y+4JX3/0+YsQIffzx\n",
              "x6qsrJQkvfnmm0pKSmryeU1S330fGxurjRs3qrq6WpL097//XV27dm3yeZsbR3+/NsmVPg7au3ev\n",
              "fd1119mdOnWye/ToYRcUFNi2bdt33nmn/dprr9Wt95e//MWOjY21Y2Nj7V//+td1V9rj3NRnv8+Z\n",
              "M8cOCQmxk5KS6pY5c+Y4ObYR6vtv/t/27dvHRcaNoL77fenSpXZ8fLydkJBgDxo0yD5w4IBTIxuj\n",
              "Pvv+5MmT9oQJE+wuXbrYCQkJ9oABA+r+ihPnZtKkSfYVV1xhBwcH25dddpndoUMH27YD5/cr96IC\n",
              "AADGMfoUFQAAaJ4IHAAAYBwCBwAAGIfAAQAAxiFwAACAcQgcAABgHAIHAAAYh8ABAADGIXAAAIBx\n",
              "CBwAAGAcAgcAABjn/wHXw4lDDOMRkAAAAABJRU5ErkJggg==\n",
              "\">\n",
              "      </div>\n",
              "      <script type=\"text/javascript\">\n",
              "        (() => {\n",
              "          const chartElement = document.getElementById(\"chart-deef5439-f425-4321-829a-5a6e65e39b3d\");\n",
              "          async function getCodeForChartHandler(event) {\n",
              "            const chartCodeResponse =  await google.colab.kernel.invokeFunction(\n",
              "                'getCodeForChart', [\"chart-deef5439-f425-4321-829a-5a6e65e39b3d\"], {});\n",
              "            const responseJson = chartCodeResponse.data['application/json'];\n",
              "            await google.colab.notebook.addCell(responseJson.code, 'code');\n",
              "          }\n",
              "          chartElement.onclick = getCodeForChartHandler;\n",
              "        })();\n",
              "      </script>\n",
              "      <style>\n",
              "        .colab-quickchart-chart-with-code  {\n",
              "            display: block;\n",
              "            float: left;\n",
              "            border: 1px solid transparent;\n",
              "        }\n",
              "\n",
              "        .colab-quickchart-chart-with-code:hover {\n",
              "            cursor: pointer;\n",
              "            border: 1px solid #aaa;\n",
              "        }\n",
              "      </style>"
            ]
          },
          "metadata": {}
        },
        {
          "output_type": "display_data",
          "data": {
            "text/plain": [
              "<google.colab._quickchart_helpers.SectionTitle at 0x7f26b9774c40>"
            ],
            "text/html": [
              "<h4 class=\"colab-quickchart-section-title\">Values</h4>\n",
              "<style>\n",
              "  .colab-quickchart-section-title {\n",
              "      clear: both;\n",
              "  }\n",
              "</style>"
            ]
          },
          "metadata": {}
        },
        {
          "output_type": "display_data",
          "data": {
            "text/plain": [
              "from matplotlib import pyplot as plt\n",
              "_df_2['Label'].plot(kind='line', figsize=(8, 4), title='Label')\n",
              "plt.gca().spines[['top', 'right']].set_visible(False)"
            ],
            "text/html": [
              "      <div class=\"colab-quickchart-chart-with-code\" id=\"chart-d9dc58e4-2348-4c71-a268-4ae319c291f8\">\n",
              "        <img style=\"width: 180px;\" src=\"data:image/png;base64,iVBORw0KGgoAAAANSUhEUgAAAqUAAAFuCAYAAAC4H2HYAAAAOXRFWHRTb2Z0d2FyZQBNYXRwbG90\n",
              "bGliIHZlcnNpb24zLjcuMSwgaHR0cHM6Ly9tYXRwbG90bGliLm9yZy/bCgiHAAAACXBIWXMAAA9h\n",
              "AAAPYQGoP6dpAAAmDUlEQVR4nO3dfUzVd573/9f3nAMHUQ4geIMCogWkjrZWq8PQqpBezk7n2tlO\n",
              "15rNzDotSTvYJpPuxia1Jm1m57cd3f7SZeJ2/2inMWxac5maddZkOtdm0p0FaW2n6rTaqTMIWBG0\n",
              "IPcgCAiHc/0Bhy0tVc4N53O+5zwfyUnq+X45vM83vXn1c/P+WD6fzycAAADAIIfpAgAAAABCKQAA\n",
              "AIwjlAIAAMA4QikAAACMI5QCAADAOEIpAAAAjCOUAgAAwDhCKQAAAIwjlAIAAMA4QikARIGmpiZZ\n",
              "lqXGxsagP+Pf/u3flJ2dHcaqACByCKUAEEalpaV6/vnnTZcBALZDKAUAAIBxhFIAiIBPP/1UDzzw\n",
              "gBYtWqTU1FR985vf1H//939/5b7q6mqtWbNGHo9HDzzwgC5evDh1zev16p//+Z915513KjU1VRs3\n",
              "btTvfve7SH4NAJgzhFIAiJDnnntOzc3Nam9v14MPPqiHH35Y7e3t0+55/fXX9dvf/lZtbW1auXKl\n",
              "vve972lsbEyS9I//+I968803dfz4cfX09Oj555/XX/3VX00LrgBgV4RSAIiAtWvXavv27Zo3b57c\n",
              "brf+4R/+QZZl6cMPP5x23wsvvKCcnBwlJyfrF7/4herr6/XBBx9Ikn7xi1/opZde0urVq+VwOPTw\n",
              "ww+rpKRER44cMfGVACCsXKYLAIB40NzcrGeffVbvv/++ent75XA41N/f/5WR0pUrV079dUpKijIz\n",
              "M9XS0qJr166pv79fO3fulMPxP+MJo6Ojys/Pj9j3AIC5QigFgAj48Y9/rNTUVJ0+fVpLliyRz+dT\n",
              "enq6fD7ftPuampq0du1aSdLAwIA6OzuVnZ2ttLQ0JSUl6e2339bWrVtNfAUAmFNM3wNAmHm9Xg0P\n",
              "D0979fT0aMGCBUpPT9fg4KD27dungYGBr/zsiy++qCtXrujGjRt65plnlJ+fr5KSErndbj355JN6\n",
              "9tln9ec//1k+n09DQ0Oqra1VfX29gW8JAOFFKAWAMPunf/onzZs3b9rrkUce0blz55Senq41a9Zo\n",
              "+fLlMza6f/zxx7V9+3YtWbJE9fX1+vWvfy2Xa2JS6+WXX9YPfvAD7dy5U2lpacrLy9OBAwc0Ojoa\n",
              "6a8IAGFn+b48dwQAAABEGCOlAAAAMI5QCgAAAOMIpQAAADCOUAoAAADjCKUAAAAwjlAKAAAA4wil\n",
              "AAAAMM72ofTgwYOmSwAAAECIbB9KL1++bLoEAAAAhMj2oRQAAAD2RygFAACAcYRSAAAAGEcoBQAA\n",
              "gHGEUgAAABhHKAUAAIBxhFIAAAAYRygFAACAcYRSAAAAGEcoBQAAgHGE0gD5fD7TJQAAAMQcQuks\n",
              "tfcP6yf/5yM9ePBdgikAAECYEUpnyTMvQe/86Zrq2q7rwrXrpssBAACIKYTSWUpKcKrkjgxJUnVd\n",
              "h+FqAAAAYguhNAClqxdLkmoutBuuBAAAILYEHUqrqqpkWZaOHz8uSWpvb9d3vvMdFRQUaO3ataqt\n",
              "rZ26N9hr0aZsMpSeudyj/uFRw9UAAADEjqBCaVNTk15//XUVFxdPvffcc8+puLhYDQ0Nqqqq0g9/\n",
              "+EONjo6GdC3a5GYka9Wi+fKO+3SyodN0OQAAADEj4FA6Pj6uJ554Qq+88orcbvfU+0ePHtWTTz4p\n",
              "Sdq0aZOWLVumEydOhHQtGpUWToyWVjOFDwAAEDYBh9LKykrdd9992rhx49R7XV1dGh0d1dKlS6fe\n",
              "y8vLU3Nzc9DXZjIyMqL+/v5pL6/XG+hXCElZ0SJJUs2FDlpDAQAAhElAofTTTz/VsWPH9Pzzz89V\n",
              "Pbd04MABpaamTnudOnUqojVsXrlQ8xKcar8+oj+19kf0dwMAAMSqgELpu+++q6amJhUUFCgvL0+/\n",
              "//3vVVFRoaNHj8rlcqmtrW3q3qamJuXm5iojIyOoazPZt2+f+vr6pr02b94c6HcOidvl1H35E62h\n",
              "ai7QGgoAACAcAgqlTz31lFpbW9XU1KSmpiYVFxfrl7/8pZ566int3LlTr776qiTp9OnTunr1qrZt\n",
              "2yZJQV/7MrfbLY/HM+3ldDqD++Yh8LeGqq5jXSkAAEA4uML1QS+99JJ+9KMfqaCgQImJiTp8+LAS\n",
              "EhJCuhatSldPrCv9qLlHfTdGlZoc3fUCAABEO8tn8906e/bsUWVlZcR/7/bKE2poH9ArP7hH37t7\n",
              "WcR/PwAAQCzhRKcglRXRGgoAACBcCKVBKi2cmMKvre/Q+LitB5sBAACMI5QG6d68hZqf6FTnwE19\n",
              "+nmf6XIAAABsjVAapESXQ/flZ0qiNRQAAECoCKUhYF0pAABAeBBKQ+BvDXW2pVfdgzcNVwMAAGBf\n",
              "hNIQZKXOU9HSFPl80rsNTOEDAAAEi1AaIk53AgAACB2hNERlk1P4J+o75KU1FAAAQFAIpSHasCJd\n",
              "KW6Xem6M6pMrvabLAQAAsCVCaYgSnA5tKZxoDVVNaygAAICgEErDwL+u9AStoQAAAIJCKA0D/5Gj\n",
              "5670qeP6iOFqAAAA7IdQGgaLPUn6xjKPJKm2nil8AACAQBFKw8TfSL+GUAoAABAwQmmYlE2uK62t\n",
              "79CYd9xwNQAAAPZCKA2T9TlpSp2XoL6hUZ1t6TVdDgAAgK0QSsPE5XRoS8FEa6gaWkMBAAAEhFAa\n",
              "Rv4p/GpaQwEAAASEUBpG2yY3O53/vF/t/cOGqwEAALAPQmkYZS5w667sVEnswgcAAAgEoTTM/Kc7\n",
              "1TCFDwAAMGuE0jDz9yt9t6FTo7SGAgAAmBVCaZjdnZ2m9OQEXR8e00eXe0yXAwAAYAuE0jBzOixt\n",
              "K5wYLa2mNRQAAMCsEErnAOtKAQAAAkMonQNbCxfJsqS6tutq7RsyXQ4AAEDUI5TOgYXzE7U+J02S\n",
              "dIIpfAAAgNsilM6R0kJOdwIAAJgtQukcKSua2Oz0XkOnbo7RGgoAAOBWCKVzZO2yVGUuSNTgTa/O\n",
              "XO42XQ4AAEBUI5TOEYfD0tbJ1lA1rCsFAAC4JULpHCqbbA1VXce6UgAAgFshlM6hLQWZclhSQ/uA\n",
              "rvTcMF0OAABA1CKUzqG05ERtyE2XxBQ+AADArRBK51hZkf90J0IpAADA1yGUzrFtk5udTjZ2amTM\n",
              "a7gaAACA6EQonWPfWObR4hS3hka9OnWJ1lAAAAAzIZTOMcuypkZLmcIHAACYGaE0AvzrSjlyFAAA\n",
              "YGaE0gi4vyBTToelzzoG1dxFaygAAIAvI5RGgCcpQRtXTLaGqme0FAAA4MsIpRHC6U4AAABfj1Aa\n",
              "IWVFE5udPvisS8OjtIYCAAD4IkJphKxekqKlniQNj47r9591mS4HAAAgqhBKI8SyrKnRUlpDAQAA\n",
              "TEcojaDS1f4jR1lXCgAA8EWE0gi6Lz9TCU5LTV03dKlz0HQ5AAAAUYNQGkEL3C5tylsoiV34AAAA\n",
              "X0QojbDS1ZPrSutZVwoAAOBHKI0wf7/S33/WpaGbtIYCAACQCKURl794gZanzdPNsXF98Fmn6XIA\n",
              "AACiAqE0wizLmprCr65jCh8AAEAilBoxdeTohXb5fD7D1QAAAJhHKDWgJD9DiU6HrvQM6WIHraEA\n",
              "AAAIpQYkJ7r0zVUTraFopA8AAEAoNab0C1P4AAAA8Y5Qaoh/s9OpS90aHBkzXA0AAIBZhFJDVmXO\n",
              "V+7CZI16fTrZSGsoAAAQ3wilhliWpTJOdwIAAJAURCj99re/rbvuukvr16/Xli1b9PHHH0uSGhoa\n",
              "VFJSosLCQm3atEnnz5+f+plgr8U6/7rSmjpaQwEAgPgWcCg9evSoPvnkE509e1Z79uxReXm5JGn3\n",
              "7t2qqKhQfX299u7dO/V+KNdiXfGqDLldDn3eN6z6awOmywEAADAm4FCalpY29dd9fX2yLEvt7e06\n",
              "c+aMdu3aJUnasWOHWlpa1NjYGPS1mYyMjKi/v3/ay+u17/nx8xKd+tYdGZJoDQUAAOJbUGtKH330\n",
              "UeXk5OiFF17Qm2++qZaWFmVlZcnlckmaWC+Zm5ur5ubmoK/N5MCBA0pNTZ32OnXqVDBfIWqUFk4e\n",
              "OUooBQAAcSyoUPrGG2+opaVFL774ovbu3Rvumr7Wvn371NfXN+21efPmiP3+ueBfV3qmqUfXh0cN\n",
              "VwMAAGBGSLvvH3vsMVVXVys7O1utra0aG5vot+nz+dTc3Kzc3Fzl5OQEdW0mbrdbHo9n2svpdIby\n",
              "FYzLy5yvlZnzNTZOaygAABC/Agqlvb29+vzzz6f+fPz4cWVkZGjx4sXasGGDDh8+LEk6duyYsrOz\n",
              "lZ+fH/S1eOJvpF9dR2soAAAQn1yB3NzX16edO3dqaGhIDodDixYt0ttvvy3LsvTaa6+pvLxc+/fv\n",
              "l8fjUVVV1dTPBXstXpStXqyqk02qqZ9oDWVZlumSAAAAIsry2bxB5p49e1RZWWm6jJAMj3p1z//3\n",
              "joZGvfq/T2/RmmUe0yUBAABEFCc6RYGkBKdKJltDsQsfAADEI0JplCgtmtiFf+IC60oBAED8IZRG\n",
              "CX+/0j8096jvBq2hAABAfCGURomchcnKX7xA3nGf3m1ktBQAAMQXQmkU8Y+W1jCFDwAA4gyhNIqU\n",
              "Ta4rrbnQofFxWzdFAAAACAihNIrcm5eu+YlOdQ6M6Pzn/abLAQAAiBhCaRRxu5wqyc+UJNXQGgoA\n",
              "AMQRQmmUKVs9MYVPv1IAABBPCKVRpnT1xGansy296hm8abgaAACAyCCURpllafO0ekmKxn1SbQO7\n",
              "8AEAQHwglEah0iJaQwEAgPhCKI1CpYWTR47W0xoKAADEB0JpFLo3L10L3C51D97UJ1f7TJcDAAAw\n",
              "5wilUSjB6dCWgonWUNV17MIHAACxj1Aapfy78GvqWVcKAABiH6E0SpVO9iv95EqvugZGDFcDAAAw\n",
              "twilUWqJJ0lrsjzy0RoKAADEAUJpFPNP4VfXEUoBAEBsI5RGsbKiiSn82oYOeWkNBQAAYhihNIrd\n",
              "k5MmT5JLvTdGdbal13Q5AAAAc4ZQGsVcToe2FPpPd6I1FAAAiF2E0ihXNrkLv5pQCgAAYhihNMpt\n",
              "mxwp/fRqv9qvDxuuBgAAYG4QSqPcohS31i1PlSSduMAufAAAEJsIpTZQxulOAAAgxhFKbWDb5LrS\n",
              "2voOjXnHDVcDAAAQfoRSG1ifk6a05ARdHx7TR829pssBAAAIO0KpDTgd1tSGJ1pDAQCAWEQotYmp\n",
              "I0fZ7AQAAGIQodQmthYskmVJf27tV1sfraEAAEBsIZTaRMYCt+7KTpMknahnCh8AAMQWQqmN+FtD\n",
              "VdcxhQ8AAGILodRG/EeOvtfYqVFaQwEAgBhCKLWRdctTlTE/UQMjYzrT1GO6HAAAgLAhlNqIg9ZQ\n",
              "AAAgRhFKbaa0aGIKv4bWUAAAIIYQSm1ma0GmHJZ04dp1Xe0dMl0OAABAWBBKbSYtOVH35KZLYgof\n",
              "AADEDkKpDZVOrStlCh8AAMQGQqkNlU2uKz3Z2KmRMa/hagAAAEJHKLWhNVkeLUpx68ZNL62hAABA\n",
              "TCCU2tAXW0NV17GuFAAA2B+h1Kb8pztVs9kJAADEAEKpTd1fkCmnw9LFjkG1dN8wXQ4AAEBICKU2\n",
              "lTovQRtpDQUAAGIEodTGSosm15XSGgoAANgcodTGSgsn1pW+f7FTw6O0hgIAAPZFKLWxO7NStMTj\n",
              "1vDouD681G26HAAAgKARSm3MsqypXfisKwUAAHZGKLW50tUcOQoAAOyPUGpz9+VnyuWwdKlzUE2d\n",
              "g6bLAQAACAqh1OZSkhK0KW+hJKbwAQCAfRFKY4B/Cp/WUAAAwK4IpTGgrGhis9MHn3Vp6CatoQAA\n",
              "gP0QSmNAweIFWp42TzfHxvX7z7pMlwMAABAwQmkMsCxL26am8FlXCgAA7IdQGiP+p19ph3w+n+Fq\n",
              "AAAAAkMojREld2Qo0elQc/cNfUZrKAAAYDMBhdLh4WF9//vfV2Fhoe6++25t375djY2NkqT29nZ9\n",
              "5zvfUUFBgdauXava2tqpnwv2GmZvvtulzSsnWkNV1zGFDwAA7CXgkdKKigpduHBB586d00MPPaQn\n",
              "nnhCkvTcc8+puLhYDQ0Nqqqq0g9/+EONjo6GdA2B8beGOlFPaygAAGAvAYXSpKQkffe735VlWZKk\n",
              "4uJiNTU1SZKOHj2qJ598UpK0adMmLVu2TCdOnAjpGgJTOrmu9MPPujU4Mma4GgAAgNkLaU3pwYMH\n",
              "9dBDD6mrq0ujo6NaunTp1LW8vDw1NzcHfW0mIyMj6u/vn/byeunL6XfHovnKWThPN73jev8iraEA\n",
              "AIB9BB1K9+/fr8bGRh04cCCc9dzSgQMHlJqaOu116tSpiP3+aGdZ1hd24bOuFAAA2EdQofTll1/W\n",
              "r371K/3nf/6nkpOTlZGRIZfLpba2tql7mpqalJubG/S1mezbt099fX3TXps3bw7mK8Qs/7pSWkMB\n",
              "AAA7CTiUVlZW6siRI3rnnXeUlpY29f7OnTv16quvSpJOnz6tq1evatu2bSFd+zK32y2PxzPt5XQ6\n",
              "A/0KMe1bqzKV6HLoau+QGtsHTJcDAAAwK65Abr5y5YqeeeYZrVq1SmVlZZImguKHH36ol156ST/6\n",
              "0Y9UUFCgxMREHT58WAkJCZIU9DUEbl6iU8WrMlRb36HqC+0qWJJiuiQAAIDbsnw2n+Pds2ePKisr\n",
              "TZcRVapOXtLPfv0nfWtVho5UFJsuBwAA4LY40SkG+Tc7nbncrevD9HwFAADRj1Aag/Iy5ysvI1mj\n",
              "Xp9ONtIaCgAARD9CaYwqpTUUAACwEUJpjCor8odSWkMBAIDoRyiNUd9cuVBJCQ619Q+rru266XIA\n",
              "AABuiVAao5ISnCq5I1PSxGgpAABANCOUxjD/6U7VrCsFAABRjlAaw0oLJ9aV/uFyj/qGaA0FAACi\n",
              "F6E0huVmJOuORfPlHffpZGOn6XIAAAC+FqE0xvlbQ1XXMYUPAACiF6E0xvlPd6qp79D4OK2hAABA\n",
              "dCKUxrhNK9OVnOhUx/UR/am133Q5AAAAMyKUxji364utoZjCBwAA0YlQGgfKivytoehXCgAAohOh\n",
              "NA74Nzt93Nyj3hs3DVcDAADwVYTSOLA8bZ4KlyzQuE+qbaA1FAAAiD6E0jgxtQufdaUAACAKEUrj\n",
              "xLbJI0dPXKA1FAAAiD6E0jhx74qFWuB2qWvwpv54tc90OQAAANMQSuNEosuh+/P9raHYhQ8AAKIL\n",
              "oTSOlK72t4ZiXSkAAIguhNI44m8Nde5Kr7oGRgxXAwAA8D8IpXFkaWqS7szyyOeT3qU1FAAAiCKE\n",
              "0jjDFD4AAIhGhNI44+9XWlvfIS+toQAAQJQglMaZDblpSklyqefGqM5d6TVdDgAAgCRCadxxOR3a\n",
              "WjAxhV9TxxQ+AACIDoTSOORfV1pTT79SAAAQHQilcch/5OgnV/rUcZ3WUAAAwDxCaRxanJKktcs9\n",
              "kqQTjJYCAIAoQCiNU/5d+DW0hgIAAFGAUBqn/OtKa+s7NOYdN1wNAACId4TSOLU+J11pyQnqHx7T\n",
              "2ZZe0+UAAIA4RyiNU06HpS0FnO4EAACiA6E0jpX5jxytY7MTAAAwi1Aax7YWLpJlSX9q7de1/mHT\n",
              "5QAAgDhGKI1jmQvcumt5qiTpxAVGSwEAgDmE0jhXOtkainWlAADAJEJpnCsrmgil7zV0apTWUAAA\n",
              "wBBCaZy7a3mqFs5P1PWRMf3hco/pcgAAQJwilMY5h8PStsKJXfg1rCsFAACGEEoxdboTR44CAABT\n",
              "CKXQ1oKJ1lB1bdf1ee+Q6XIAAEAcIpRC6fMTdU9OmiTpRD1T+AAAIPIIpZD0hdZQdUzhAwCAyCOU\n",
              "QpJUNhlKTzZ26uYYraEAAEBkEUohSfrGMo8yF7g1eNOrM03dpssBAABxhlAKSdNbQ3G6EwAAiDRC\n",
              "KaaUFdGvFAAAmEEoxZQt+YvksKSG9gG1dN8wXQ4AAIgjhFJMSU1O0MYV6ZKkGlpDAQCACCKUYhp/\n",
              "a6gTrCsFAAARRCjFNP4jR082dml41Gu4GgAAEC8IpZhmTZZHi1PcGhr16tQlWkMBAIDIIJRiGsuy\n",
              "phrpswsfAABECqEUX+Gfwq9hXSkAAIgQQim+4r6CTLkclj7rHNTlrkHT5QAAgDhAKMVXeJISdG/e\n",
              "ZGsopvABAEAEEEoxI39rKI4cBQAAkRBQKH366aeVl5cny7J09uzZqfcbGhpUUlKiwsJCbdq0SefP\n",
              "nw/5Gszyb3b64CKtoQAAwNwLKJQ+8sgjeu+997RixYpp7+/evVsVFRWqr6/X3r17VV5eHvI1mFW4\n",
              "ZIGyUpM0MjauDz7rMl0OAACIcQGF0q1btyo7O3vae+3t7Tpz5ox27dolSdqxY4daWlrU2NgY9DWY\n",
              "Z1nW1BR+TR1T+AAAYG6FvKa0paVFWVlZcrlckibCTG5urpqbm4O+9nVGRkbU398/7eX1MrU8V8om\n",
              "W0NVX+iQz+czXA0AAIhlttrodODAAaWmpk57nTp1ynRZMaskP1MJTkvN3Td0qZPWUAAAYO6EHEpz\n",
              "cnLU2tqqsbExSZLP51Nzc7Nyc3ODvvZ19u3bp76+vmmvzZs3h/oV8DUWuF3avHKhJFpDAQCAuRVy\n",
              "KF28eLE2bNigw4cPS5KOHTum7Oxs5efnB33t67jdbnk8nmkvp9MZ6lfALZTRGgoAAESA5QtgseDu\n",
              "3bv1m9/8Rm1tbcrIyFBKSooaGxt14cIFlZeXq6urSx6PR1VVVVq3bp0kBX1ttvbs2aPKysqAfgaz\n",
              "19h+Xf+rslaJTofO/nS7khNdpksCAAAxKKBQGo0IpXPL5/Npy/9frSs9Qzr02L164M4lpksCAAAx\n",
              "yFYbnRB5E62h/LvwmcIHAABzg1CK25paV1pHaygAADA3CKW4rW/dkaFEl0NXe4d0sWPAdDkAACAG\n",
              "EUpxW8mJLn1zsjVUdR2toQAAQPgRSjEr/in8mnrWlQIAgPAjlGJWyoomQumpS90aGBkzXA0AAIg1\n",
              "hFLMysrM+VqRkaxRr08nGztNlwMAAGIMoRSzNjWFz5GjAAAgzAilmLVtk/1Kay600xoKAACEFaEU\n",
              "s/atVRlyuxxq7RvWhWvXTZcDAABiCKEUs5aU4FTJHRmSmMIHAADhRShFQEqnTneiNRQAAAgfQikC\n",
              "4t/s9IfLPeofHjVcDQAAiBWEUgQkNyNZqxbN19i4TycbaA0FAADCg1CKgJUWTk7hX2AKHwAAhAeh\n",
              "FAErK/K3huqgNRQAAAgLQikCtnnlQs1LcKr9+oj+1NpvuhwAABADCKUImNvl1H35tIYCAADhQyhF\n",
              "UEqnjhxlXSkAAAgdoRRBKZ08cvQPl3vUd4PWUAAAIDSEUgQlOz1ZBYsXaNwn1TYwhQ8AAEJDKEXQ\n",
              "yor8U/iEUgAAEBpCKYJWWjgxhX+ivl3j47SGAgAAwSOUImj35i3U/ESnOgdu6vzntIYCAADBI5Qi\n",
              "aIkuh+4vyJTE6U4AACA0hFKExN8ailAKAABCQShFSPytoc629Kp78KbhagAAgF0RShGSrNR5Klqa\n",
              "Ip9PepfWUAAAIEiEUoRsagq/jil8AAAQHEIpQlY2OYVf29ApL62hAABAEAilCNmGFelKcbvUPXhT\n",
              "n1zpNV0OAACwIUIpQpbgdGhL4URrKE53AgAAwSCUIiz860praA0FAACCQChFWPiPHD13pU+dAyOG\n",
              "qwEAAHZDKEVYLPYk6RvLPJKk2nqm8AEAQGAIpQgbfyP9ataVAgCAABFKETZlk+tKa+s7NOYdN1wN\n",
              "AACwE0IpwmZ9TppS5yWob2hU52gNBQAAAkAoRdi4nA5tKZhoDVVdxxQ+AACYPUIpwso/hV9TT2so\n",
              "AAAwe4RShNW2yc1On17tV3v/sOFqAACAXRBKEVaZC9y6KztVklRDaygAADBLhFKEnf90pxO0hgIA\n",
              "ALNEKEXY+fuV1jZ0aJTWUAAAYBYIpQi7u7PTlJ6coOvDY/roco/pcgAAgA0QShF2ToelbYUTo6Ws\n",
              "KwUAALNBKMWc8K8rra6jNRQAALg9QinmxNbCRbIsqa7tutr6aA0FAABujVCKObFwfqLW56RJkmou\n",
              "MFoKAABujVCKOVNaODmFTygFAAC3QSjFnCkrmtjsdLKxSzfHaA0FAAC+HqEUc2btslRlLkjUwMiY\n",
              "zlzuNl0OAACIYoRSzBmHw9JWf2soTncCAAC3QCjFnCqbbA3FZicAAHArhFLMqS0FmXJYUv21AV3t\n",
              "HTJdDgAAiFKEUsyptOREbchNl8RoKQAA+HqEUsy5siL/6U6sKwUAADMjlGLObZvc7PT+xU6NjHkN\n",
              "VwMAAKIRoRRz7hvLPFqc4taNm16dvtRjuhwAABCFoiKUNjQ0qKSkRIWFhdq0aZPOnz9vuiSEkWVZ\n",
              "U6OlnO4EAABmEhWhdPfu3aqoqFB9fb327t2r8vJy0yUhzKbWlRJKAQDADIyH0vb2dp05c0a7du2S\n",
              "JO3YsUMtLS1qbGw0XBnC6f6CTDkdlj7rGFRz1w3T5QAAgCjjMl1AS0uLsrKy5HJNlGJZlnJzc9Xc\n",
              "3Kz8/Pxp946MjGhkZGTae14vG2fswJOUoI0r0nXqUrd2HfpQnnnG/9azNUvW7O6b3W2z/LTZf+Bs\n",
              "Py/c9Vlhrg8z8335z74vv/PVeybuu/1nzXTTbD7LN8NdM/6+WdQw0/eZycyf5bvtPUA02LxyoX7+\n",
              "8DrTZUxjq2Rw4MAB/exnP5v2XnFxsaFqEKj/vS5Lpy51q7mbkVIAAEzKTp9nuoSvsHyz/V/COdLe\n",
              "3q78/Hx1d3fL5XLJ5/MpKytL77333qxGSl944QUdPHgwkiUjSN5xnz5q7tHAyJjpUmLfbf6pnmlU\n",
              "6Sv3zOLfDLO65/a3zGpkanafM4ubZvVJuL3p480zDVJ/+a0vj2TPNGL95c+Z+XO/fFPgv3vme27/\n",
              "u2bzPWeuh/F5RJe05ATdmeUxXcY0xkdKFy9erA0bNujw4cMqLy/XsWPHlJ2d/ZVAKklut1tut3va\n",
              "e06nM1KlIkROh6VNeQtNlwEAAKKQ8VAqSa+99prKy8u1f/9+eTweVVVVmS4JAAAAERQVoXT16tX6\n",
              "4IMPTJcBAAAAQ4y3hAIAAAAIpQAAADCOUAoAAADjCKUAAAAwjlAKAAAA4wilAAAAMI5QCgAAAOMI\n",
              "pQAAADCOUAoAAADjLJ/P5zNdRCj++q//Wnl5eRH5XV6vV6dOndLmzZvldDoj8jtjDc8wNDy/0PEM\n",
              "Q8PzCx3PMDQ8v9CZeIYrVqzQ3/3d393yHtuH0kjq7+9Xamqq+vr65PF4TJdjSzzD0PD8QsczDA3P\n",
              "L3Q8w9Dw/EIXrc+Q6XsAAAAYRygFAACAcYRSAAAAGEcoDYDb7dZPf/pTud1u06XYFs8wNDy/0PEM\n",
              "Q8PzCx3PMDQ8v9BF6zNkoxMAAACMY6QUAAAAxhFKAQAAYByhFAAAAMYRSmepoaFBJSUlKiws1KZN\n",
              "m3T+/HnTJdnK008/rby8PFmWpbNnz5oux3aGh4f1/e9/X4WFhbr77ru1fft2NTY2mi7Ldr797W/r\n",
              "rrvu0vr167VlyxZ9/PHHpkuypaqqKlmWpePHj5suxXby8vK0evVqrV+/XuvXr9dbb71luiRbGRkZ\n",
              "0U9+8hMVFBRo3bp12rVrl+mSbKWrq2vq773169ersLBQLpdL3d3dpkuTJLlMF2AXu3fvVkVFhcrL\n",
              "y/Xv//7vKi8v1+nTp02XZRuPPPKInn32Wd1///2mS7GtiooKPfjgg7IsS//6r/+qJ554QjU1NabL\n",
              "spWjR48qLS1NkvQf//EfKi8v17lz58wWZTNNTU16/fXXVVxcbLoU23rrrbe0fv1602XY0nPPPSfL\n",
              "slRfXy/LstTW1ma6JFvJyMiYNjD08ssv68SJE1q4cKG5or6AkdJZaG9v15kzZ6b+j2zHjh1qaWlh\n",
              "pCoAW7duVXZ2tukybCspKUnf/e53ZVmWJKm4uFhNTU1mi7IhfyCVpL6+vqnnidkZHx/XE088oVde\n",
              "eSXqWskg9g0ODurQoUP6+c9/PvXP7tKlSw1XZW+HDh3S448/brqMKYTSWWhpaVFWVpZcromBZcuy\n",
              "lJubq+bmZsOVIV4dPHhQDz30kOkybOnRRx9VTk6OXnjhBb355pumy7GVyspK3Xfffdq4caPpUmzt\n",
              "0Ucf1bp16/T444+ro6PDdDm2cfHiRS1cuFD79+/Xvffeqy1btuh3v/ud6bJs6/3331dPT4/+8i//\n",
              "0nQpUwilgM3s379fjY2NOnDggOlSbOmNN95QS0uLXnzxRe3du9d0Obbx6aef6tixY3r++edNl2Jr\n",
              "tbW1+uSTT/TRRx8pMzNTjz32mOmSbGNsbEyXL1/WmjVrdObMGf3Lv/yL/uZv/kbXrl0zXZotHTp0\n",
              "SI8++ujUgFs0iJ5KolhOTo5aW1s1NjYml8sln8+n5uZm5ebmmi4Ncebll1/Wr371K/3Xf/2XkpOT\n",
              "TZdja4899piefPJJdXV1KSMjw3Q5Ue/dd99VU1OTCgoKJEltbW2qqKhQa2urnnrqKcPV2Yf/vxsJ\n",
              "CQn6+7//exUWFhquyD5yc3PlcDj0t3/7t5Kke+65RytXrtQf//hHLVmyxHB19jIwMKCjR49G3d4Y\n",
              "RkpnYfHixdqwYYMOHz4sSTp27Jiys7OVn59vuDLEk8rKSh05ckTvvPPOtLWRmJ3e3l59/vnnU38+\n",
              "fvy4MjIyomaBf7R76qmn1NraqqamJjU1Nam4uFi//OUvCaQBGBwcVG9v79Sfjxw5onvuucdcQTaT\n",
              "mZmpBx54QL/97W8lSZcuXdKlS5d05513Gq7Mft566y3dfffdKioqMl3KNIyUztJrr72m8vJy7d+/\n",
              "Xx6PR1VVVaZLspXdu3frN7/5jdra2vQXf/EXSklJYaNYAK5cuaJnnnlGq1atUllZmaSJs4s//PBD\n",
              "w5XZR19fn3bu3KmhoSE5HA4tWrRIb7/9NpudEDHXrl3Tjh075PV65fP5tGrVKr3xxhumy7KVV199\n",
              "VY8//rj27t0rh8Oh1157TcuXLzddlu0cOnRIP/7xj02X8RWWz+fzmS4CAAAA8Y3pewAAABhHKAUA\n",
              "AIBxhFIAAAAYRygFAACAcYRSAAAAGEcoBQAAgHGEUgAAABhHKAUAAIBxhFIAAAAYRygFAACAcYRS\n",
              "AAAAGPf/ALdbWOgwjRh5AAAAAElFTkSuQmCC\n",
              "\">\n",
              "      </div>\n",
              "      <script type=\"text/javascript\">\n",
              "        (() => {\n",
              "          const chartElement = document.getElementById(\"chart-d9dc58e4-2348-4c71-a268-4ae319c291f8\");\n",
              "          async function getCodeForChartHandler(event) {\n",
              "            const chartCodeResponse =  await google.colab.kernel.invokeFunction(\n",
              "                'getCodeForChart', [\"chart-d9dc58e4-2348-4c71-a268-4ae319c291f8\"], {});\n",
              "            const responseJson = chartCodeResponse.data['application/json'];\n",
              "            await google.colab.notebook.addCell(responseJson.code, 'code');\n",
              "          }\n",
              "          chartElement.onclick = getCodeForChartHandler;\n",
              "        })();\n",
              "      </script>\n",
              "      <style>\n",
              "        .colab-quickchart-chart-with-code  {\n",
              "            display: block;\n",
              "            float: left;\n",
              "            border: 1px solid transparent;\n",
              "        }\n",
              "\n",
              "        .colab-quickchart-chart-with-code:hover {\n",
              "            cursor: pointer;\n",
              "            border: 1px solid #aaa;\n",
              "        }\n",
              "      </style>"
            ]
          },
          "metadata": {}
        },
        {
          "output_type": "display_data",
          "data": {
            "text/plain": [
              "<google.colab._quickchart_helpers.SectionTitle at 0x7f26b9774c10>"
            ],
            "text/html": [
              "<h4 class=\"colab-quickchart-section-title\">Faceted distributions</h4>\n",
              "<style>\n",
              "  .colab-quickchart-section-title {\n",
              "      clear: both;\n",
              "  }\n",
              "</style>"
            ]
          },
          "metadata": {}
        },
        {
          "output_type": "display_data",
          "data": {
            "text/plain": [
              "from matplotlib import pyplot as plt\n",
              "import seaborn as sns\n",
              "figsize = (12, 1.2 * len(_df_3['index'].unique()))\n",
              "plt.figure(figsize=figsize)\n",
              "sns.violinplot(_df_3, x='Label', y='index', inner='stick', palette='Dark2')\n",
              "sns.despine(top=True, right=True, bottom=True, left=True)"
            ],
            "text/html": [
              "      <div class=\"colab-quickchart-chart-with-code\" id=\"chart-9e80810b-adbb-4222-8d60-da055ea0e7b8\">\n",
              "        <img style=\"width: 180px;\" src=\"data:image/png;base64,iVBORw0KGgoAAAANSUhEUgAAA+oAAAMWCAYAAABmznywAAAAOXRFWHRTb2Z0d2FyZQBNYXRwbG90\n",
              "bGliIHZlcnNpb24zLjcuMSwgaHR0cHM6Ly9tYXRwbG90bGliLm9yZy/bCgiHAAAACXBIWXMAAA9h\n",
              "AAAPYQGoP6dpAAAvq0lEQVR4nO3df7DWdZ3//8eFx87BjEPBhpQSooKzKqBw0EjTyyQr283NTdTw\n",
              "x46rbuWUUY6ws2tNfeBsqyvrWk1tGWaGa2WpbaVpoomZSkX4Yy2QSCrQTRAKuS448P7+4XfPLok/\n",
              "+HG8XsLtNnPNnOv947qe72Hec82d9/tcp1ZVVRUAAACgCP1aPQAAAADwv4Q6AAAAFESoAwAAQEGE\n",
              "OgAAABREqAMAAEBBhDoAAAAURKgDAABAQYQ6AAAAFESoAwAAQEGEOgAAABREqAMAAEBBhDoAAAAU\n",
              "RKgDAABAQYQ6AAAAFESoAwAAQEGEOgAAABSkrdUDAAAAwLaqqiqNRiNJ0tHRkVqt1uKJtp8r6gAA\n",
              "ALxsNRqN1Ov11Ov13mB/uRPqAAAAUBChDgAAAAUR6gAAAFAQoQ4AAAAFEeoAAABQEKEOAAAABRHq\n",
              "AAAAUBChDgAAAAUR6gAAAFAQoQ4AAAAFEeoAAABQEKEOAAAABRHqAAAAUBChDgAAAAUR6gAAAFAQ\n",
              "oQ4AAAAFEeoAAABQEKEOAAAABRHqAAAAUBChDgAAAAUR6gAAAFAQoQ4AAAAFEeoAAABQEKEOAAAA\n",
              "BRHqAAAAUBChDgAAAAUR6gAAAFAQoQ4AAAAFEeoAAABQEKEOAAAABRHqAAAAUBChDgAAAAUR6gAA\n",
              "AFCQnSLU//Vf/zUrVqxo9RgAAACw3YQ6AAAAFKRPQ/2ee+7JkUcemTFjxmT06NG58cYbM3/+/Eyc\n",
              "ODGjR4/OhAkTcvfddydJli5dmoEDB/bu+8c//jG1Wq33ea1Wy8yZMzNhwoTsu+++mT17dpLkE5/4\n",
              "RH73u99l8uTJGTt2bBYsWNCXhwQAAAB9qq2vXnjlypU58cQT841vfCNHHXVUNm3alN///vcZP358\n",
              "vvCFL+T444/PvHnzctJJJ2Xx4sUv6jXb29tz33335ZFHHklXV1dOP/30XHzxxfnSl76U6667LmPH\n",
              "jn3OfZvNZprN5rNer729fXsOEwAAAHaoPruifs8992TUqFE56qijnnmjfv3y+OOPp1+/fjn++OOT\n",
              "JEceeWSGDBnyoq+Cv/e9702SHHjggWlra9uq2927u7vT2dm52aO7u3vrDgoAAAD6WJ9dUX+x/uf2\n",
              "9ra2tmzcuLF3eaPReNa2HR0dvT/vtttu6enpedHvM3369EydOnWzZa6mAwAAUJo+u6I+ceLELFq0\n",
              "KHfddVeSZNOmTRkyZEg2bdqUW2+9NUnyox/9KCtWrMjYsWOz1157paqqPPzww0mSq6+++kW/14AB\n",
              "A7J69ern3aa9vT0DBgzY7CHUAQAAKE2fhfqrX/3qfOtb38q0adMyevToHHbYYbn33nvzzW9+Mx/7\n",
              "2McyevToXHDBBfnGN76RPffcM21tbbniiivyzne+M11dXdmwYcOLfq8PfvCDOeecc3yZHAAAAC97\n",
              "taqqqlYPAQAAANti3bp1qdfrSZK5c+emf//+LZ5o++0Uf0cdAAAAdhZCHQAAAAoi1AEAAKAgQh0A\n",
              "AAAKItQBAACgIEIdAAAACiLUAQAAoCBCHQAAAAoi1AEAAKAgQh0AAAAKItQBAACgIEIdAAAACiLU\n",
              "AQAAoCBCHQAAAAoi1AEAAKAgQh0AAAAKItQBAACgIEIdAAAACiLUAQAAoCBCHQAAAAoi1AEAAKAg\n",
              "Qh0AAAAKItQBAACgIEIdAAAACiLUAQAAoCBCHQAAAAoi1AEAAKAgQh0AAAAKItQBAACgIEIdAAAA\n",
              "CiLUAQAAoCBCHQAAAAoi1AEAAKAgtaqqqlYPAQAAANuiqqo0Go0kSUdHR2q1Wosn2n5CHQAAAAri\n",
              "1ncAAAAoiFAHAACAggh1AAAAKIhQBwAAgIIIdQAAACiIUAcAAICCCHUAAAAoiFAHAACAggh1AAAA\n",
              "KIhQBwAAgIIIdQAAACiIUAcAAICCCHUAAAAoSFurB+C5VVWVRqORJOno6EitVmvxRAAAAPQ1V9QL\n",
              "1mg0Uq/XU6/Xe4MdAACAnZtQBwAAgIIIdQAAACiIUAcAAICCCHUAAAAoiFAHAACAggh1AAAAKIhQ\n",
              "BwAAgIIIdQAAACiIUAcAAICCCHUAAAAoiFAHAACAggh1AAAAKIhQBwAAgIIIdQAAACiIUAcAAICC\n",
              "CHUAAAAoiFAHAACAggh1AAAAKIhQBwAAgIIIdQAAACiIUAcAAICCCHUAAAAoiFAHAACAggh1AAAA\n",
              "KIhQBwAAgIIIdQAAACiIUAcAAICCCHUAAAAoiFAHAACAggh1AAAAKIhQBwAAgIIIdQAAACiIUAcA\n",
              "AICCCHUAAAAoiFAHAACAggh1AAAAKEifhXqtVsuMGTNy+OGHZ/jw4bnhhhvS3d2d8ePH54ADDsgd\n",
              "d9zRu+0tt9ySI488MuPGjcuECRMyd+7cJMmKFStSr9czbty4HHTQQTn//POzadOmJMlVV12V4447\n",
              "LqeeemoOOeSQjB8/PkuWLHnOeZrNZtasWbPZo9ls9tXhAwAAwDbp0yvqe+65Z+69995ceeWVmTJl\n",
              "SoYOHZr58+dn5syZufDCC5MkS5Ysycc//vF897vfzU9+8pPMmTMnp512WprNZgYOHJhvf/vb+clP\n",
              "fpKFCxdm6dKl+drXvtb7+vfff39mzpyZBx54IMcdd1w+9alPPecs3d3d6ezs3OzR3d3dl4cPAAAA\n",
              "W62tL1988uTJSZLx48dn7dq1OeWUU5IkEyZMyKJFi5IkN998cxYvXpw3v/nNvfv169cvjz32WF7/\n",
              "+tfnoosuyrx581JVVZ544okcfPDBva/zxje+Mfvuu2/vz1dcccVzzjJ9+vRMnTp1s2Xt7e077mAB\n",
              "AABgB+jTUO/o6EiS7Lbbbs963tPTkySpqiqTJk3KnDlznrX///t//y9PPPFE7r333nR0dGTq1Klp\n",
              "NBrPev0/fc0taW9vF+YAAAAUr+VfJnf88cfntttuy8KFC3uX3XfffUmSVatWZa+99kpHR0dWrFiR\n",
              "r3/9660aEwAAAF4SfXpF/cXYf//9M2fOnJx33nl5+umns379+hx66KGZM2dOPvShD+Wv//qvc9BB\n",
              "B+V1r3tdjjvuuFaPCwAAAH2qVlVV1eoh2LJ169alXq8nSebOnZv+/fu3eCIAAAD6WstvfQcAAAD+\n",
              "l1AHAACAggh1AAAAKIhQBwAAgIIIdQAAACiIUAcAAICCCHUAAAAoiFAHAACAggh1AAAAKIhQBwAA\n",
              "gIIIdQAAACiIUAcAAICCCHUAAAAoiFAHAACAggh1AAAAKIhQBwAAgIIIdQAAACiIUAcAAICCCHUA\n",
              "AAAoiFAHAACAggh1AAAAKIhQBwAAgIIIdQAAACiIUAcAAICCCHUAAAAoiFAHAACAggh1AAAAKIhQ\n",
              "BwAAgIIIdQAAACiIUAcAAICCCHUAAAAoiFAHAACAgtSqqqpaPQRbVlVVGo1GkqSjoyO1Wq3FEwEA\n",
              "ANDXhDoAAAAUxK3vAAAAUBChDgAAAAUR6gAAAFAQoQ4AAAAFEeoAAABQEKEOAAAABRHqAAAAUBCh\n",
              "DgAAAAUR6gAAAFAQoQ4AAAAFEeoAAABQEKEOAAAABRHqAAAAUBChDgAAAAVpa/UAPLeqqtJoNJIk\n",
              "HR0dqdVqLZ4IAACAvuaKesEajUbq9Xrq9XpvsAMAALBzE+oAAABQEKEOAAAABRHqAAAAUBChDgAA\n",
              "AAUR6gAAAFAQoQ4AAAAFEeoAAABQEKEOAAAABRHqAAAAUBChDgAAAAUR6gAAAFAQoQ4AAAAFEeoA\n",
              "AABQEKEOAAAABRHqAAAAUBChDgAAAAUR6gAAAFAQoQ4AAAAFEeoAAABQEKEOAAAABRHqAAAAUBCh\n",
              "DgAAAAUR6gAAAFAQoQ4AAAAFEeoAAABQEKEOAAAABRHqAAAAUBChDgAAAAUR6gAAAFAQoQ4AAAAF\n",
              "EeoAAABQEKEOAAAABRHqAAAAUJCXRagvXbo0n/vc5553m/Hjx+eOO+54aQYCAACAPrLThDoAAADs\n",
              "DNpaPcCfWrduXc4666w88MAD2X333TNkyJA89thj+fWvf52xY8dm2LBhuemmm/KjH/0o73//+9PT\n",
              "05Ourq709PS0enQAAADYbsWF+s0335ynnnoqDz/8cJJk5cqVWbhwYS644IIsWLAgSbJ+/fpMnjw5\n",
              "s2fPznHHHZfvf//7ueqqq573dZvNZprN5mbL2tvb097e3heHAQAAANukuFvfx4wZk//6r//K+9//\n",
              "/lx33XXZfffdn7XNI488kra2thx33HFJkre+9a0ZMWLE875ud3d3Ojs7N3t0d3f3yTEAAADAtiou\n",
              "1EeMGJGHH344b3vb23L33Xfn4IMPzqpVq15wv1qt9rzrp0+fntWrV2/2mD59+o4aGwAAAHaI4kL9\n",
              "N7/5TWq1Wv7yL/8yl156aaqqyqBBg7J69erebQ488MD09PRk7ty5SZLbbrstjz766PO+bnt7ewYM\n",
              "GLDZw23vAAAAlKa431F/4IEHMn369FRVlZ6enpx++umZOHFiDjrooBx88MEZMWJEbrrpplx33XV5\n",
              "//vfn40bN6arqytjxoxp9egAAACw3WpVVVWtHoItW7duXer1epJk7ty56d+/f4snAgAAoK8Vd+s7\n",
              "AAAA7MqEOgAAABREqAMAAEBBhDoAAAAURKgDAABAQYQ6AAAAFESoAwAAQEGEOgAAABREqAMAAEBB\n",
              "hDoAAAAURKgDAABAQYQ6AAAAFESoAwAAQEGEOgAAABREqAMAAEBBhDoAAAAURKgDAABAQYQ6AAAA\n",
              "FESoAwAAQEGEOgAAABREqAMAAEBBhDoAAAAURKgDAABAQYQ6AAAAFESoAwAAQEGEOgAAABREqAMA\n",
              "AEBBhDoAAAAURKgDAABAQYQ6AAAAFESoAwAAQEGEOgAAABREqAMAAEBBalVVVa0egi2rqiqNRiNJ\n",
              "0tHRkVqt1uKJAAAA6GtCHQAAAAri1ncAAAAoiFAHAACAggh1AAAAKIhQBwAAgIIIdQAAACiIUAcA\n",
              "AICCCHUAAAAoiFAHAACAggh1AAAAKIhQBwAAgIIIdQAAACiIUAcAAICCCHUAAAAoSFurB+C5VVWV\n",
              "RqORJOno6EitVmvxRAAAAPQ1V9QL1mg0Uq/XU6/Xe4MdAACAnZtQBwAAgIIIdQAAACiIUAcAAICC\n",
              "CHUAAAAoiFAHAACAggh1AAAAKIhQBwAAgIIIdQAAACiIUAcAAICCCHUAAAAoiFAHAACAggh1AAAA\n",
              "KIhQBwAAgIIIdQAAACiIUAcAAICCCHUAAAAoiFAHAACAggh1AAAAKIhQBwAAgIIIdQAAACiIUAcA\n",
              "AICCCHUAAAAoiFAHAACAggh1AAAAKIhQBwAAgIIIdQAAACiIUAcAAICCCHUAAAAoiFAHAACAggh1\n",
              "AAAAKIhQBwAAgIIIdQAAACiIUAcAAICCvKxC/Xe/+12OOuqoVo8BAAAAfeZlFeqve93rctddd7V6\n",
              "DAAAAOgzRYR6rVbLjBkzcvjhh2f48OG54YYb0t3dnfHjx+eAAw7IHXfckSRZunRpBg4cuNl+M2fO\n",
              "zIQJE7Lvvvtm9uzZrTkAAAAA2EGKCPUk2XPPPXPvvffmyiuvzJQpUzJ06NDMnz8/M2fOzIUXXvic\n",
              "+7W3t+e+++7L9773vXzwgx9MT0/PFrdrNptZs2bNZo9ms9lXhwMAAADbpJhQnzx5cpJk/PjxWbt2\n",
              "bU455ZQkyYQJE7Jo0aLn3O+9731vkuTAAw9MW1tbVqxYscXturu709nZudmju7t7Bx8FAAAAbJ+2\n",
              "Vg/wPzo6OpIku+2227OeP9dV8v+73QttO3369EydOnWzZe3t7ds1MwAAAOxoxYR6X2tvbxfmAAAA\n",
              "FK+YW98BAACAQq6oV1XV+/Oee+652fO99947f/zjH5Mkw4cPz1NPPbXF/ZLk97//fd8OCgAAAH3M\n",
              "FXUAAAAoiFAHAACAggh1AAAAKIhQBwAAgIIIdQAAACiIUAcAAICCCHUAAAAoiFAHAACAggh1AAAA\n",
              "KIhQBwAAgIIIdQAAACiIUAcAAICCCHUAAAAoiFAHAACAggh1AAAAKIhQBwAAgIIIdQAAACiIUAcA\n",
              "AICCCHUAAAAoiFAHAACAggh1AAAAKIhQBwAAgIIIdQAAACiIUAcAAICCCHUAAAAoiFAHAACAggh1\n",
              "AAAAKIhQBwAAgILskFBfv379jngZAAAA2OVtdai/4x3vyMqVK3ufP/roo5k4ceIOHQoAAAB2VVsd\n",
              "6scee2y6urpyzz335Gtf+1rq9XqmTZvWF7MBAADALqdta3f46Ec/mq6urtTr9QwaNCh33XVXRowY\n",
              "0RezAQAAwC5nq6+oL126NBdeeGHOPPPMDB8+PDNmzEij0eiL2QAAAGCXU6uqqtqaHfbZZ59ccskl\n",
              "OeWUU7Jx48ZcdNFF+f73v5+FCxf21Yy7rKqqev8TpKOjI7VarcUTAQAA0Ne2OtR/+ctfZuTIkZst\n",
              "+853vpMTTjhhhw4GAAAAu6KtvvV9xIgR+Zd/+Ze8733vS/LMt773799/hw8GAAAAu6Kt/jK5888/\n",
              "Pxs3bsy8efOSJIMGDcrkyZMzf/78HT4cAAAA7Gq2OtR//OMfZ8GCBTn00EOTJAMHDsyGDRt2+GAA\n",
              "AACwK9rqW987Ojo2e75x48Zs2rRphw0EAAAAu7KtDvXRo0fnmmuuyaZNm7J48eL83d/9XY455pg+\n",
              "GA0AAAB2PVsd6pdddlnuuuuurFixIm9605vSr1+//NM//VNfzAYAAAC7nK3+82wAAABA33nRXyZ3\n",
              "9dVXP+/6M844Y7uHAQAAgF3di76i/p73vCdJsmbNmtx555058sgjU6vVMm/evBx99NG5+eab+3RQ\n",
              "AAAA2BW86CvqX//615Mkf/VXf5X58+fn4IMPTpI89NBDufjii/tmOgAAANjFbPWXyS1evLg30pPk\n",
              "oIMOyqJFi3boUAAAALCr2upQHzBgQK666qpUVZWqqnLVVVdlzz337IvZAAAAYJez1d/6/otf/CKn\n",
              "n356FixYkFqtlkMPPTRf/vKXM2rUqL6aEQAAAHYZ2/zn2f7whz8kSV71qlft0IEAAABgV/aiv0zu\n",
              "/1q+fHl+9atfpaenp3fZm9/85h02FM+oqiqNRiNJ0tHRkVqt1uKJAAAA6GtbHeozZszIJZdckhEj\n",
              "RmS33XZLktRqtdx33307fLhdXaPRSL1eT5LMnTs3/fv3b/FEAAAA9LWtDvUvfelLefTRRzNo0KC+\n",
              "mAcAAAB2aVv9re9DhgwR6QAAANBHtvqK+qRJk3LBBRfktNNOS0dHR+/y0aNH79DBAAAAYFe01aF+\n",
              "9dVXJ0luvPHG3mW1Wi1LlizZcVMBAADALmqrQ/1Xv/pVX8wBAAAAZCtCfe3atXnlK1+ZNWvWbHH9\n",
              "gAEDdthQAAAAsKt60aF+1FFH5ac//WkGDhyYWq2Wqqp619VqtWzcuLFPBgQAAIBdyYsO9Z/+9KdJ\n",
              "kk2bNvXZMAAAALCr2+o/zwYAAAD0HaEOAAAABRHqAAAAUBChDgAAAAUR6gAAAFAQoQ4AAAAFEeoA\n",
              "AABQEKEOAAAABRHqAAAAUBChDgAAAAUR6gAAAFAQoQ4AAAAFEeoAAABQEKEOAAAABRHqAAAAUBCh\n",
              "DgAAAAUR6gAAAFAQoQ4AAAAFEeoAAABQEKEOAAAABRHqAAAAUBChDgAAAAUR6gAAAFAQoQ4AAAAF\n",
              "EeoAAABQkJaEeqPRyIknnpiRI0dmzJgxmTRpUhYvXpwkOeaYY7Lvvvtm7NixGTt2bGbNmtW733nn\n",
              "nZdDDjkkxx57bFavXp0kqaoqb3/72/Poo4+24lAAAABgh2rZFfVzzz03v/jFL/Lzn/8873rXu/K3\n",
              "f/u3vetmzZqVBQsWZMGCBfnwhz+cJHnwwQezaNGiPPDAAznmmGPyla98JUnyxS9+MfV6Pfvtt19L\n",
              "jgMAAAB2pJaEekdHR97xjnekVqslSY444ogsXbr0effZfffd02w2s2nTpqxduzaveMUrsnz58lx7\n",
              "7bWZOnXqC75ns9nMmjVrNns0m80dcTgAAACwwxTxO+qXX3553vWud/U+nzZtWg455JBMnjw5S5Ys\n",
              "SZKMGjUq9Xo9hx12WJYsWZIpU6bkwx/+cC655JK0tbW94Ht0d3ens7Nzs0d3d3efHRMAAABsi1pV\n",
              "VVUrB5g5c2a+/e1v5wc/+EH22GOPLFu2LPvss0+qqspnPvOZfPazn83DDz/8rP1uvPHGzJs3L9Om\n",
              "TctHP/rRrFmzJieffHImT568xfdpNpvPuoLe3t6e9vb2PjmuHWHdunWp1+tJkrlz56Z///4tnggA\n",
              "AIC+1tJQv/TSS/Mf//Efue222zJw4MAtbtPR0ZHf/va3GTRoUO+yNWvW5IQTTsgtt9yS7u7u7Lff\n",
              "fpkyZUrGjBmT+fPn7zRBK9QBAAB2PS279f2yyy7Ltddem1tvvbU30nt6evL444/3bnP99ddnyJAh\n",
              "m0V68syt8RdffHH22GOPrF27NrVaLbVaLRs2bMj69etfysMAAACAHeqFf7m7D/zmN7/JRz7ykYwY\n",
              "MaL3inF7e3tuv/32nHDCCWk2m+nXr18GDx6cm266abN977777qxbty6TJk1KknzgAx/Iqaeemk99\n",
              "6lM5/fTT09nZ+ZIfDwAAAOwoLf8ddZ6bW98BAAB2PUV86zsAAADwDKEOAAAABRHqAAAAUBChDgAA\n",
              "AAUR6gAAAFAQoQ4AAAAFEeoAAABQEKEOAAAABRHqAAAAUBChDgAAAAUR6gAAAFAQoQ4AAAAFEeoA\n",
              "AABQEKEOAAAABRHqAAAAUBChDgAAAAUR6gAAAFAQoQ4AAAAFEeoAAABQEKEOAAAABRHqAAAAUBCh\n",
              "DgAAAAUR6gAAAFAQoQ4AAAAFEeoAAABQEKEOAAAABRHqAAAAUBChDgAAAAUR6gAAAFAQoQ4AAAAF\n",
              "EeoAAABQEKEOAAAABalVVVW1egi2rKqqNBqNJElHR0dqtVqLJwIAAKCvCXUAAAAoiFvfAQAAoCBC\n",
              "HQAAAAoi1AEAAKAgQh0AAAAKItQBAACgIEIdAAAACiLUAQAAoCBCHQAAAAoi1AEAAKAgQh0AAAAK\n",
              "ItQBAACgIEIdAAAACiLUAQAAoCBCHQAAAArS1uoBeG5VVaXRaCRJOjo6UqvVWjwRAAAAfc0V9YI1\n",
              "Go3U6/XU6/XeYAcAAGDnJtQBAACgIEIdAAAACiLUAQAAoCBCHQAAAAoi1AEAAKAgQh0AAAAKItQB\n",
              "AACgIEIdAAAACiLUAQAAoCBCHQAAAAoi1AEAAKAgQh0AAAAKItQBAACgIEIdAAAACiLUAQAAoCBC\n",
              "HQAAAAoi1AEAAKAgQh0AAAAKItQBAACgIEIdAAAACiLUAQAAoCBCHQAAAAoi1AEAAKAgQh0AAAAK\n",
              "ItQBAACgIEIdAAAACiLUAQAAoCBCHQAAAAoi1AEAAKAgQh0AAAAKItQBAACgIEIdAAAACiLUAQAA\n",
              "oCAtC/Xhw4dn1KhRGTt2bMaOHZvrrrsuSbJo0aJMnDgxI0eOTFdXVx566KEkyYYNG3LiiSdmzJgx\n",
              "efe7352enp4kSaPRyJvf/OasWrWqVYcCAAAAO0xLr6hfd911WbBgQRYsWJDJkycnSc4777yce+65\n",
              "+eUvf5mLLrooZ511VpLklltuyWte85r8/Oc/z8CBA3PzzTcnST75yU/m/PPPz6tf/epWHQYAAADs\n",
              "MEXd+v7EE09k/vz5mTJlSpLkpJNOyrJly7J48eLsvvvuefrpp5MkTz/9dF7xildk4cKFeeSRR3Ly\n",
              "ySe3cmwAAADYYVoa6meccUYOOeSQnH322fnv//7vLFu2LEOHDk1bW1uSpFarZdiwYXnssccyadKk\n",
              "vOpVr8qYMWPS2dmZY489NlOnTs3ll1/+ot6r2WxmzZo1mz2azWZfHh4AAABstZaF+g9/+MMsXLgw\n",
              "P/3pTzN48OCceeaZz7t9v3798oUvfCE///nP8/nPfz6f/vSnc+KJJ6anpyennXZaTjrppNx+++3P\n",
              "uX93d3c6Ozs3e3R3d+/owwIAAIDtUquqqmr1EMuXL8/IkSPz6KOPZv/998/KlSvT1taWqqoydOjQ\n",
              "zJs3L/vvv3/v9r/+9a9zzjnn5Oabb86ZZ56Zs88+O+PGjcsRRxzR++Vzf6rZbD7rCnp7e3va29v7\n",
              "9Ni2x7p161Kv15Mkc+fOTf/+/Vs8EQAAAH2tJVfU165dm6eeeqr3+bXXXptDDz00r33ta3PYYYfl\n",
              "mmuuSZJcf/312XvvvTeL9CT50Ic+lFmzZqVfv35Zu3ZtarVa78/Ppb29PQMGDNjsUXKkAwAAsGtq\n",
              "a8WbPv744znppJOycePGVFWVESNG5Oqrr06SfP7zn89ZZ52VmTNnZsCAAZk9e/Zm+86ZMydjxozJ\n",
              "QQcdlCSZNm1azjnnnKxfvz7/+I//+JIfCwAAAOxIRdz6zpa59R0AAGDXU9SfZwMAAIBdnVAHAACA\n",
              "ggh1AAAAKIhQBwAAgIIIdQAAACiIUAcAAICCCHUAAAAoiFAHAACAggh1AAAAKIhQBwAAgIIIdQAA\n",
              "ACiIUAcAAICCCHUAAAAoiFAHAACAggh1AAAAKIhQBwAAgIIIdQAAACiIUAcAAICCCHUAAAAoiFAH\n",
              "AACAggh1AAAAKIhQBwAAgIIIdQAAACiIUAcAAICCCHUAAAAoiFAHAACAggh1AAAAKIhQBwAAgIII\n",
              "dQAAACiIUAcAAICCCHUAAAAoiFAHAACAggh1AAAAKEitqqqq1UOwZVVVpdFoJEk6OjpSq9VaPBEA\n",
              "AAB9TagDAABAQdz6DgAAAAUR6gAAAFAQoQ4AAAAFEeoAAABQEKEOAAAABRHqAAAAUBChDgAAAAUR\n",
              "6gAAAFAQoQ4AAAAFEeoAAABQEKEOAAAABRHqAAAAUBChDgAAAAVpa/UAPLeqqtJoNJIkHR0dqdVq\n",
              "LZ4IAACAvuaKesEajUbq9Xrq9XpvsAMAALBzE+oAAABQEKEOAAAABRHqAAAAUBChDgAAAAUR6gAA\n",
              "AFAQoQ4AAAAFEeoAAABQEKEOAAAABRHqAAAAUBChDgAAAAUR6gAAAFAQoQ4AAAAFEeoAAABQEKEO\n",
              "AAAABRHqAAAAUBChDgAAAAUR6gAAAFAQoQ4AAAAFEeoAAABQEKEOAAAABRHqAAAAUBChDgAAAAUR\n",
              "6gAAAFAQoQ4AAAAFEeoAAABQEKEOAAAABRHqAAAAUBChDgAAAAUR6gAAAFAQoQ4AAAAFEeoAAABQ\n",
              "EKEOAAAABRHqAAAAUBChDgAAAAVpSag/+eSTGTt2bO9j5MiRaWtry8qVK3PMMcdk33337V03a9as\n",
              "3v3OO++8HHLIITn22GOzevXqJElVVXn729+eRx99tBWHAgAAADtUWyvedNCgQVmwYEHv80svvTR3\n",
              "3nlnXvOa1yRJZs2alRNPPHGzfR588MEsWrQoDzzwQD7xiU/kK1/5Ss4///x88YtfTL1ez3777fcS\n",
              "HgEAAAD0jZaE+p+68sor093d/bzb7L777mk2m9m0aVPWrl2bvfbaK8uXL8+1116b73//+y/4Hs1m\n",
              "M81mc7Nl7e3taW9v367ZAQAAYEdq+e+o/+hHP8qqVavyzne+s3fZtGnTcsghh2Ty5MlZsmRJkmTU\n",
              "qFGp1+s57LDDsmTJkkyZMiUf/vCHc8kll6St7YX/v6G7uzudnZ2bPV7oPwcAAADgpVarqqpq5QBn\n",
              "n312Bg0alH/+539Okixbtiz77LNPqqrKZz7zmXz2s5/Nww8//Kz9brzxxsybNy/Tpk3LRz/60axZ\n",
              "syYnn3xyJk+evMX3eTleUV+3bl3q9XqSZO7cuenfv3+LJwIAAKCvtTTU//jHP2bo0KG5//77c+CB\n",
              "B25xm46Ojvz2t7/NoEGDepetWbMmJ5xwQm655ZZ0d3dnv/32y5QpUzJmzJjMnz9/pwlaoQ4AALDr\n",
              "aemt79ddd13GjBnTG+k9PT15/PHHe9dff/31GTJkyGaRnjxza/zFF1+cPfbYI2vXrk2tVkutVsuG\n",
              "DRuyfv36l/QYAAAAYEdq6ZfJXXnllTnnnHN6nzebzZxwwglpNpvp169fBg8enJtuummzfe6+++6s\n",
              "W7cukyZNSpJ84AMfyKmnnppPfepTOf3009PZ2fmSHgMAAADsSC3/HXWem1vfAQAAdj0t/9Z3AAAA\n",
              "4H8JdQAAACiIUAcAAICCCHUAAAAoiFAHAACAggh1AAAAKIhQBwAAgIIIdQAAACiIUAcAAICCCHUA\n",
              "AAAoiFAHAACAggh1AAAAKIhQBwAAgIIIdQAAACiIUAcAAICCCHUAAAAoiFAHAACAggh1AAAAKIhQ\n",
              "BwAAgIIIdQAAACiIUAcAAICCCHUAAAAoiFAHAACAggh1AAAAKIhQBwAAgIIIdQAAACiIUAcAAICC\n",
              "CHUAAAAoiFAHAACAggh1AAAAKIhQBwAAgIIIdQAAAChIraqqqtVDsGVVVaXRaCRJOjo6UqvVWjwR\n",
              "AAAAfU2oAwAAQEHc+g4AAAAFEeoAAABQEKEOAAAABRHqAAAAUBChDgAAAAUR6gAAAFAQoQ4AAAAF\n",
              "EeoAAABQEKEOAAAABRHqAAAAUBChDgAAAAUR6gAAAFAQoQ4AAAAFEeoAAABQkLZWD8Bzq6oqjUYj\n",
              "SdLR0ZFardbiiQAAAOhrrqgXrNFopF6vp16v9wY7AAAAOzehDgAAAAUR6gAAAFAQoQ4AAAAFEeoA\n",
              "AABQEKEOAAAABRHqAAAAUBChDgAAAAUR6gAAAFAQoQ4AAAAFEeoAAABQEKEOAAAABRHqAAAAUBCh\n",
              "DgAAAAUR6gAAAFAQoQ4AAAAFEeoAAABQEKEOAAAABRHqAAAAUBChDgAAAAUR6gAAAFAQoQ4AAAAF\n",
              "EeoAAABQEKEOAAAABRHqAAAAUBChDgAAAAUR6gAAAFAQoQ4AAAAFEeoAAABQEKEOAAAABRHqAAAA\n",
              "UBChDgAAAAUR6gAAAFAQoQ4AAAAFEeoAAABQEKEOAAAABWlZqNdqtcyYMSOHH354hg8fnhtuuCHd\n",
              "3d0ZP358DjjggNxxxx1Jkp6enhx//PEZP358DjrooJx22mlZu3ZtkuSrX/1qxo8fn2azmaqq8hd/\n",
              "8ReZMWNGqw4JAAAAtltLr6jvueeeuffee3PllVdmypQpGTp0aObPn5+ZM2fmwgsvTJLstttumTNn\n",
              "TubPn58HH3wwnZ2dueKKK5Ik733vezNu3Lh85CMfyaWXXpqenp78/d///Rbfq9lsZs2aNZs9ms3m\n",
              "S3asAAAA8GK0NNQnT56cJBk/fnzWrl2bU045JUkyYcKELFq0KElSVVVmzZqVQw89NKNHj853vvOd\n",
              "LFiwoPc1Lr/88tx111254oor8pWvfCW1Wm2L79Xd3Z3Ozs7NHt3d3X17gAAAALCV2lr55h0dHUme\n",
              "uWr+p897enqSJHPmzMntt9+eO++8MwMGDMi//du/5fbbb+99jSeeeCKrVq3Kpk2b8tRTT2Xw4MFb\n",
              "fK/p06dn6tSpmy1rb2/f4ccEAAAA26Olof5irFq1KoMHD86AAQPyhz/8IVdddVWGDRuW5JnfXz/l\n",
              "lFPyyU9+Mv3798/JJ5+ce+65Z4sB3t7eLswBAAAoXvHf+n7GGWfk6aefzqhRo/L2t789Rx11VO+6\n",
              "adOmZdSoUTnzzDNz8skn541vfGMuuOCC1g0LAAAA26lWVVXV6iHYsnXr1qVerydJ5s6dm/79+7d4\n",
              "IgAAAPpa8VfUAQAAYFci1AEAAKAgQh0AAAAKItQBAACgIEIdAAAACiLUAQAAoCBCHQAAAAoi1AEA\n",
              "AKAgQh0AAAAKItQBAACgIEIdAAAACiLUAQAAoCBCHQAAAAoi1AEAAKAgQh0AAAAKItQBAACgIEId\n",
              "AAAACiLUAQAAoCBCHQAAAAoi1AEAAKAgQh0AAAAKItQBAACgIEIdAAAACiLUAQAAoCBCHQAAAAoi\n",
              "1AEAAKAgQh0AAAAKItQBAACgIEIdAAAACiLUAQAAoCBCHQAAAAoi1AEAAKAgQh0AAAAKUquqqmr1\n",
              "EGxZVVVpNBpJko6OjtRqtRZPBAAAQF8T6gAAAFAQt74DAABAQYQ6AAAAFESoAwAAQEGEOgAAABRE\n",
              "qAMAAEBBhDoAAAAURKgXrtls5uMf/3iazWarR4GXDecNbD3nDWwb5w5sPefNC/N31Au3Zs2adHZ2\n",
              "ZvXq1RkwYECrx4GXBecNbD3nDWwb5w5sPefNC3NFHQAAAAoi1AEAAKAgQh0AAAAKItQL197eno99\n",
              "7GNpb29v9SjwsuG8ga3nvIFt49yBree8eWG+TA4AAAAK4oo6AAAAFESoAwAAQEGEOgAAABREqBds\n",
              "0aJFmThxYkaOHJmurq489NBDrR4JWuKDH/xghg8fnlqtlgULFvQuf75zZFvXwc6i0WjkxBNPzMiR\n",
              "IzNmzJhMmjQpixcvTpI88cQTedvb3pYDDjggBx98cH74wx/27ret62Bn8da3vjWjR4/O2LFjc9RR\n",
              "R+VnP/tZEp858GLMnj07tVotN9xwQxKfN9ulolj1er2aPXt2VVVV9fWvf70aP358aweCFrnzzjur\n",
              "ZcuWVW94wxuqn/3sZ73Ln+8c2dZ1sLNYt25d9Z3vfKfatGlTVVVVdcUVV1RHH310VVVV9Td/8zfV\n",
              "xz72saqqquq+++6rXv/611fr16/frnWws1i1alXvz9/85jer0aNHV1XlMwdeyK9+9avqjW98Y3XE\n",
              "EUdU3/rWt6qq8nmzPYR6oR5//PHqVa96VbVhw4aqqqpq06ZN1ZAhQ6pFixa1eDJonf8b6s93jmzr\n",
              "OtiZ3X///dUb3vCGqqqq6pWvfGW1fPny3nVdXV3Vrbfeul3rYGc0e/bsasyYMT5z4AVs3Lixestb\n",
              "3lLNnz+/Ovroo3tD3efNtmtr9RV9tmzZsmUZOnRo2tqe+Seq1WoZNmxYHnvssey///4tng5a7/nO\n",
              "kc7Ozm1a59xiZ3b55ZfnXe96V5588sls2LAhe+21V++64cOH57HHHtvmdbCzOeOMMzJ37twkyXe/\n",
              "+12fOfACLrvssrzpTW/KuHHjepf5vNk+Qh0AdnIzZ87M4sWL84Mf/CDr1q1r9ThQvKuvvjpJ8uUv\n",
              "fzkXXXRRPvnJT7Z4IijXgw8+mOuvv37X/D3yPuTL5Aq1zz77ZPny5enp6UmSVFWVxx57LMOGDWvx\n",
              "ZFCG5ztHtnUd7IwuvfTSfPOb38z3vve97LHHHhk0aFDa2tqyYsWK3m2WLl2aYcOGbfM62FmdeeaZ\n",
              "mTt3bvbee2+fOfAc7rrrrixdujQHHHBAhg8fnh//+Mc599xz87Wvfc3nzXYQ6oV67Wtfm8MOOyzX\n",
              "XHNNkuT666/P3nvv7TYp+P893zmyretgZ3PZZZfl2muvza233pqBAwf2Ln/Pe96Tz33uc0mS+++/\n",
              "P7/97W9z9NFHb9c62Bk89dRT+d3vftf7/IYbbsigQYN85sDzeN/73pfly5dn6dKlWbp0aY444oj8\n",
              "+7//e973vvf5vNkeLfz9eF7AI488Uh1xxBHVAQccUI0bN65auHBhq0eCljj33HOr17/+9dVuu+1W\n",
              "vfa1r63222+/qqqe/xzZ1nWws1i2bFmVpBoxYkQ1ZsyYasyYMdWECROqqqqqFStWVJMmTar233//\n",
              "6s///M+r22+/vXe/bV0HO4OlS5dWXV1d1cEHH1yNHj26estb3tL7JaY+c+DF+b9fJufzZtvVqqqq\n",
              "Wv2fBQAAAMAz3PoOAAAABRHqAAAAUBChDgC7sOHDh2fBggV9tv3/qNVqeeqpp7Z6PwDYFQl1AAAA\n",
              "KIhQBwA2c9lll6Wrqytjx45NV1dX7rnnns3Wf/WrX824ceOy//7755JLLuldvmjRopxwwgnp6urK\n",
              "6NGj8+lPf/qlHh0AdgptrR4AACjL6aefnqlTpyZJfvzjH+ess87KI4880rv+8ccfz/z58/Pkk0/m\n",
              "sMMOy5ve9KYcfvjhOfXUU3PNNdfkwAMPzNNPP50jjjgihx9+eLq6ulp1KADwsiTUAYDN/OxnP8uM\n",
              "GTPy5JNPpq2tLb/4xS+ybt269O/fP0ly9tlnp1arZfDgwXn3u9+d2267LQMHDsxDDz2UU045pfd1\n",
              "/vCHP+Thhx8W6gCwlYQ6ANBr/fr1efe73525c+emq6sra9asSWdnZ5rNZm+o/6larZaqqvKa17xm\n",
              "m75oDgDYnN9RBwB6NRqNrF+/PsOGDUuSXHHFFc/a5qqrrkqSrFy5Mt/61rfylre8JaNGjcqAAQMy\n",
              "e/bs3u0WL16clStXviRzA8DOxBV1ANjFHX/88dl99917n//DP/xDJkyYkMGDB292K/v/+LM/+7OM\n",
              "Gzcuq1evzvnnn5+JEycmSf7zP/8zF1xwQWbNmpWNGzdm8ODBmTNnzkt2HACws6hVVVW1eggAAADg\n",
              "GW59BwAAgIIIdQAAACiIUAcAAICCCHUAAAAoiFAHAACAggh1AAAAKIhQBwAAgIIIdQAAACiIUAcA\n",
              "AICCCHUAAAAoiFAHAACAgvx/iTT/r1ClkNgAAAAASUVORK5CYII=\n",
              "\">\n",
              "      </div>\n",
              "      <script type=\"text/javascript\">\n",
              "        (() => {\n",
              "          const chartElement = document.getElementById(\"chart-9e80810b-adbb-4222-8d60-da055ea0e7b8\");\n",
              "          async function getCodeForChartHandler(event) {\n",
              "            const chartCodeResponse =  await google.colab.kernel.invokeFunction(\n",
              "                'getCodeForChart', [\"chart-9e80810b-adbb-4222-8d60-da055ea0e7b8\"], {});\n",
              "            const responseJson = chartCodeResponse.data['application/json'];\n",
              "            await google.colab.notebook.addCell(responseJson.code, 'code');\n",
              "          }\n",
              "          chartElement.onclick = getCodeForChartHandler;\n",
              "        })();\n",
              "      </script>\n",
              "      <style>\n",
              "        .colab-quickchart-chart-with-code  {\n",
              "            display: block;\n",
              "            float: left;\n",
              "            border: 1px solid transparent;\n",
              "        }\n",
              "\n",
              "        .colab-quickchart-chart-with-code:hover {\n",
              "            cursor: pointer;\n",
              "            border: 1px solid #aaa;\n",
              "        }\n",
              "      </style>"
            ]
          },
          "metadata": {}
        }
      ]
    },
    {
      "cell_type": "code",
      "source": [
        "df.info()"
      ],
      "metadata": {
        "colab": {
          "base_uri": "https://localhost:8080/"
        },
        "id": "vQpoHrG3VD9W",
        "outputId": "d5c0cab1-c7e7-4b82-dfa8-3a7bb4e6d27a"
      },
      "execution_count": 7,
      "outputs": [
        {
          "output_type": "stream",
          "name": "stdout",
          "text": [
            "<class 'pandas.core.frame.DataFrame'>\n",
            "RangeIndex: 4101 entries, 0 to 4100\n",
            "Data columns (total 27 columns):\n",
            " #   Column   Non-Null Count  Dtype \n",
            "---  ------   --------------  ----- \n",
            " 0   Date     4101 non-null   object\n",
            " 1   Label    4101 non-null   int64 \n",
            " 2   News 1   4101 non-null   object\n",
            " 3   News 2   4101 non-null   object\n",
            " 4   News 3   4101 non-null   object\n",
            " 5   News 4   4101 non-null   object\n",
            " 6   News 5   4101 non-null   object\n",
            " 7   News 6   4101 non-null   object\n",
            " 8   News 7   4101 non-null   object\n",
            " 9   News 8   4101 non-null   object\n",
            " 10  News 9   4101 non-null   object\n",
            " 11  News 10  4101 non-null   object\n",
            " 12  News 11  4101 non-null   object\n",
            " 13  News 12  4101 non-null   object\n",
            " 14  News 13  4101 non-null   object\n",
            " 15  News 14  4101 non-null   object\n",
            " 16  News 15  4101 non-null   object\n",
            " 17  News 16  4101 non-null   object\n",
            " 18  News 17  4101 non-null   object\n",
            " 19  News 18  4101 non-null   object\n",
            " 20  News 19  4101 non-null   object\n",
            " 21  News 20  4101 non-null   object\n",
            " 22  News 21  4101 non-null   object\n",
            " 23  News 22  4101 non-null   object\n",
            " 24  News 23  4100 non-null   object\n",
            " 25  News 24  4098 non-null   object\n",
            " 26  News 25  4098 non-null   object\n",
            "dtypes: int64(1), object(26)\n",
            "memory usage: 865.2+ KB\n"
          ]
        }
      ]
    },
    {
      "cell_type": "code",
      "source": [
        "df.shape"
      ],
      "metadata": {
        "colab": {
          "base_uri": "https://localhost:8080/"
        },
        "id": "KHu1gcJYVGwD",
        "outputId": "380f4b1a-5a9b-4d22-853f-bbb923b26fbe"
      },
      "execution_count": 8,
      "outputs": [
        {
          "output_type": "execute_result",
          "data": {
            "text/plain": [
              "(4101, 27)"
            ]
          },
          "metadata": {},
          "execution_count": 8
        }
      ]
    },
    {
      "cell_type": "code",
      "source": [
        "df.columns"
      ],
      "metadata": {
        "colab": {
          "base_uri": "https://localhost:8080/"
        },
        "id": "1NSwIrH-VdGV",
        "outputId": "1e8673ab-68b5-4863-9635-0f5894f3a944"
      },
      "execution_count": 9,
      "outputs": [
        {
          "output_type": "execute_result",
          "data": {
            "text/plain": [
              "Index(['Date', 'Label', 'News 1', 'News 2', 'News 3', 'News 4', 'News 5',\n",
              "       'News 6', 'News 7', 'News 8', 'News 9', 'News 10', 'News 11', 'News 12',\n",
              "       'News 13', 'News 14', 'News 15', 'News 16', 'News 17', 'News 18',\n",
              "       'News 19', 'News 20', 'News 21', 'News 22', 'News 23', 'News 24',\n",
              "       'News 25'],\n",
              "      dtype='object')"
            ]
          },
          "metadata": {},
          "execution_count": 9
        }
      ]
    },
    {
      "cell_type": "markdown",
      "source": [
        "# Feature Selection"
      ],
      "metadata": {
        "id": "wFiOvy5GVjdf"
      }
    },
    {
      "cell_type": "code",
      "source": [
        "''.join(str(x) for x in df.iloc[1,2:27])"
      ],
      "metadata": {
        "colab": {
          "base_uri": "https://localhost:8080/",
          "height": 105
        },
        "id": "GZ7DrykTVgun",
        "outputId": "56ded7d8-7f0a-4d5e-be26-e36563a9d94c"
      },
      "execution_count": 10,
      "outputs": [
        {
          "output_type": "execute_result",
          "data": {
            "text/plain": [
              "\"Warning from history points to crashInvestors flee to dollar havenBanks and tobacco in favourReview: Llama FarmersWar jitters lead to sell-offYour not-so-secret historyReview: The Northern SinfoniaReview: HysteriaReview: The GuardsmanOpera: The Marriage of FigaroReview: The Turk in ItalyDeutsche spells out its plans for diversificationTraders' panic sends oil prices skywardTV sport chief leaves home over romanceLeader: Hi-tech twitchWhy Wenger will stick to his GunnersOut of luck England hit rock bottomWilkinson out of his depthKinsella sparks Irish power playBrown banished as Scots reboundBattling Wales cling to lifelineEhiogu close to sealing Boro moveMan-to-man markingMatch statsFrench referee at centre of storm is no stranger to controversy\""
            ],
            "application/vnd.google.colaboratory.intrinsic+json": {
              "type": "string"
            }
          },
          "metadata": {},
          "execution_count": 10
        }
      ]
    },
    {
      "cell_type": "code",
      "source": [
        "df.index"
      ],
      "metadata": {
        "colab": {
          "base_uri": "https://localhost:8080/"
        },
        "id": "zhBb17HpWAUd",
        "outputId": "57e6b698-e460-4eb3-dabb-9a43c43ebf61"
      },
      "execution_count": 11,
      "outputs": [
        {
          "output_type": "execute_result",
          "data": {
            "text/plain": [
              "RangeIndex(start=0, stop=4101, step=1)"
            ]
          },
          "metadata": {},
          "execution_count": 11
        }
      ]
    },
    {
      "cell_type": "code",
      "source": [
        "len(df.index)"
      ],
      "metadata": {
        "colab": {
          "base_uri": "https://localhost:8080/"
        },
        "id": "lI-SgCsOV9hW",
        "outputId": "66fd3a6f-db67-4cf5-b3a0-1f19447b08bb"
      },
      "execution_count": 12,
      "outputs": [
        {
          "output_type": "execute_result",
          "data": {
            "text/plain": [
              "4101"
            ]
          },
          "metadata": {},
          "execution_count": 12
        }
      ]
    },
    {
      "cell_type": "code",
      "source": [
        "news = []\n",
        "for row in range (0,len(df.index)):\n",
        "    news.append(''.join(str(x) for x in df.iloc[row, 2:27]))"
      ],
      "metadata": {
        "id": "yWWL3N6WWD-4"
      },
      "execution_count": 13,
      "outputs": []
    },
    {
      "cell_type": "code",
      "source": [
        "type(news)"
      ],
      "metadata": {
        "colab": {
          "base_uri": "https://localhost:8080/"
        },
        "id": "gOFQprRGWq65",
        "outputId": "f1c1da27-8e0f-4756-87a3-889e11513734"
      },
      "execution_count": 14,
      "outputs": [
        {
          "output_type": "execute_result",
          "data": {
            "text/plain": [
              "list"
            ]
          },
          "metadata": {},
          "execution_count": 14
        }
      ]
    },
    {
      "cell_type": "code",
      "source": [
        "news[0]"
      ],
      "metadata": {
        "colab": {
          "base_uri": "https://localhost:8080/",
          "height": 105
        },
        "id": "JuPJoAkQWuq_",
        "outputId": "cc9710a9-b275-4fc2-9aa5-311e53becd1a"
      },
      "execution_count": 15,
      "outputs": [
        {
          "output_type": "execute_result",
          "data": {
            "text/plain": [
              "\"McIlroy's men catch cold from GudjonssonObituary: Brian WalshWorkplace blues leave employers in the redClassical review: RattleDance review: Merce CunninghamGenetic tests to be used in setting premiumsOpera review: La BohèmePop review: Britney SpearsTheatre review: The CircleWales face a fraught nightUnder-21  round-upSmith off to blot his copybookFinns taking the mickeyPraise wasted as Brown studies injury optionsIreland wary of minnowsFinland 0 - 0 EnglandHealy a marked manHappy birthday Harpers & QueenWin unlimited access to the Raindance film festivalLabour pledges £800m to bridge north-south divideWales: Lib-Lab pact firm despite resignationDonald DewarRegenerating homes  regenerates well-being in peopleWin £100 worth of underwearTV guide: Random views\""
            ],
            "application/vnd.google.colaboratory.intrinsic+json": {
              "type": "string"
            }
          },
          "metadata": {},
          "execution_count": 15
        }
      ]
    },
    {
      "cell_type": "code",
      "source": [
        "x =news"
      ],
      "metadata": {
        "id": "U0m46ZrFW1yQ"
      },
      "execution_count": 16,
      "outputs": []
    },
    {
      "cell_type": "code",
      "source": [
        "type(x)"
      ],
      "metadata": {
        "colab": {
          "base_uri": "https://localhost:8080/"
        },
        "id": "Gh-iRSo6W-_H",
        "outputId": "c6146c30-1fc8-4112-e681-6441869ca0d0"
      },
      "execution_count": 17,
      "outputs": [
        {
          "output_type": "execute_result",
          "data": {
            "text/plain": [
              "list"
            ]
          },
          "metadata": {},
          "execution_count": 17
        }
      ]
    },
    {
      "cell_type": "markdown",
      "source": [
        "# Text Conversion through Bag of Words"
      ],
      "metadata": {
        "id": "rLIUFWW5XHTo"
      }
    },
    {
      "cell_type": "code",
      "source": [
        "from sklearn.feature_extraction.text import CountVectorizer"
      ],
      "metadata": {
        "id": "Ca-2_H9dXGny"
      },
      "execution_count": 18,
      "outputs": []
    },
    {
      "cell_type": "code",
      "source": [
        "cv = CountVectorizer(lowercase = True , ngram_range=(1,1))\n"
      ],
      "metadata": {
        "id": "QeTjiXACXm7x"
      },
      "execution_count": 19,
      "outputs": []
    },
    {
      "cell_type": "code",
      "source": [
        "x = cv.fit_transform(x)"
      ],
      "metadata": {
        "id": "npFGaU36XyM3"
      },
      "execution_count": 20,
      "outputs": []
    },
    {
      "cell_type": "code",
      "source": [
        "x.shape"
      ],
      "metadata": {
        "colab": {
          "base_uri": "https://localhost:8080/"
        },
        "id": "2WtNl-oHX4BC",
        "outputId": "3ea7d0f1-f09b-4654-c6ed-a90c9652b867"
      },
      "execution_count": 21,
      "outputs": [
        {
          "output_type": "execute_result",
          "data": {
            "text/plain": [
              "(4101, 108682)"
            ]
          },
          "metadata": {},
          "execution_count": 21
        }
      ]
    },
    {
      "cell_type": "code",
      "source": [
        "y = df['Label']"
      ],
      "metadata": {
        "id": "LcOF6tzyX5pH"
      },
      "execution_count": 22,
      "outputs": []
    },
    {
      "cell_type": "code",
      "source": [
        "y.shape"
      ],
      "metadata": {
        "colab": {
          "base_uri": "https://localhost:8080/"
        },
        "id": "PWBRNde8X-az",
        "outputId": "d7ad4887-3e2b-4a00-aded-9e06a40cc24d"
      },
      "execution_count": 23,
      "outputs": [
        {
          "output_type": "execute_result",
          "data": {
            "text/plain": [
              "(4101,)"
            ]
          },
          "metadata": {},
          "execution_count": 23
        }
      ]
    },
    {
      "cell_type": "markdown",
      "source": [
        "# Train test Split"
      ],
      "metadata": {
        "id": "2AqsBdH6YIzN"
      }
    },
    {
      "cell_type": "code",
      "source": [
        "from sklearn.model_selection import train_test_split"
      ],
      "metadata": {
        "id": "PD_ZRJGjYG1P"
      },
      "execution_count": 24,
      "outputs": []
    },
    {
      "cell_type": "code",
      "source": [
        "x_train, x_test, y_train, y_test = train_test_split(x, y, random_state = 2529, train_size = 0.7)"
      ],
      "metadata": {
        "id": "R9XAPqaZYXee"
      },
      "execution_count": 25,
      "outputs": []
    },
    {
      "cell_type": "markdown",
      "source": [
        "# Modeling"
      ],
      "metadata": {
        "id": "58hXcJFXVOEW"
      }
    },
    {
      "cell_type": "code",
      "source": [
        "from sklearn.ensemble import RandomForestClassifier"
      ],
      "metadata": {
        "id": "XbqD8rrIY0vn"
      },
      "execution_count": 26,
      "outputs": []
    },
    {
      "cell_type": "code",
      "source": [
        "rf = RandomForestClassifier(n_estimators=200)"
      ],
      "metadata": {
        "id": "fOX7zF5jZBUR"
      },
      "execution_count": 84,
      "outputs": []
    },
    {
      "cell_type": "code",
      "source": [
        "rf.fit(x_train, y_train)"
      ],
      "metadata": {
        "colab": {
          "base_uri": "https://localhost:8080/",
          "height": 74
        },
        "id": "ICc-VmD1ZJ9y",
        "outputId": "507250cd-ac10-408b-88ad-bd4112ad12f1"
      },
      "execution_count": 85,
      "outputs": [
        {
          "output_type": "execute_result",
          "data": {
            "text/plain": [
              "RandomForestClassifier(n_estimators=200)"
            ],
            "text/html": [
              "<style>#sk-container-id-13 {color: black;background-color: white;}#sk-container-id-13 pre{padding: 0;}#sk-container-id-13 div.sk-toggleable {background-color: white;}#sk-container-id-13 label.sk-toggleable__label {cursor: pointer;display: block;width: 100%;margin-bottom: 0;padding: 0.3em;box-sizing: border-box;text-align: center;}#sk-container-id-13 label.sk-toggleable__label-arrow:before {content: \"▸\";float: left;margin-right: 0.25em;color: #696969;}#sk-container-id-13 label.sk-toggleable__label-arrow:hover:before {color: black;}#sk-container-id-13 div.sk-estimator:hover label.sk-toggleable__label-arrow:before {color: black;}#sk-container-id-13 div.sk-toggleable__content {max-height: 0;max-width: 0;overflow: hidden;text-align: left;background-color: #f0f8ff;}#sk-container-id-13 div.sk-toggleable__content pre {margin: 0.2em;color: black;border-radius: 0.25em;background-color: #f0f8ff;}#sk-container-id-13 input.sk-toggleable__control:checked~div.sk-toggleable__content {max-height: 200px;max-width: 100%;overflow: auto;}#sk-container-id-13 input.sk-toggleable__control:checked~label.sk-toggleable__label-arrow:before {content: \"▾\";}#sk-container-id-13 div.sk-estimator input.sk-toggleable__control:checked~label.sk-toggleable__label {background-color: #d4ebff;}#sk-container-id-13 div.sk-label input.sk-toggleable__control:checked~label.sk-toggleable__label {background-color: #d4ebff;}#sk-container-id-13 input.sk-hidden--visually {border: 0;clip: rect(1px 1px 1px 1px);clip: rect(1px, 1px, 1px, 1px);height: 1px;margin: -1px;overflow: hidden;padding: 0;position: absolute;width: 1px;}#sk-container-id-13 div.sk-estimator {font-family: monospace;background-color: #f0f8ff;border: 1px dotted black;border-radius: 0.25em;box-sizing: border-box;margin-bottom: 0.5em;}#sk-container-id-13 div.sk-estimator:hover {background-color: #d4ebff;}#sk-container-id-13 div.sk-parallel-item::after {content: \"\";width: 100%;border-bottom: 1px solid gray;flex-grow: 1;}#sk-container-id-13 div.sk-label:hover label.sk-toggleable__label {background-color: #d4ebff;}#sk-container-id-13 div.sk-serial::before {content: \"\";position: absolute;border-left: 1px solid gray;box-sizing: border-box;top: 0;bottom: 0;left: 50%;z-index: 0;}#sk-container-id-13 div.sk-serial {display: flex;flex-direction: column;align-items: center;background-color: white;padding-right: 0.2em;padding-left: 0.2em;position: relative;}#sk-container-id-13 div.sk-item {position: relative;z-index: 1;}#sk-container-id-13 div.sk-parallel {display: flex;align-items: stretch;justify-content: center;background-color: white;position: relative;}#sk-container-id-13 div.sk-item::before, #sk-container-id-13 div.sk-parallel-item::before {content: \"\";position: absolute;border-left: 1px solid gray;box-sizing: border-box;top: 0;bottom: 0;left: 50%;z-index: -1;}#sk-container-id-13 div.sk-parallel-item {display: flex;flex-direction: column;z-index: 1;position: relative;background-color: white;}#sk-container-id-13 div.sk-parallel-item:first-child::after {align-self: flex-end;width: 50%;}#sk-container-id-13 div.sk-parallel-item:last-child::after {align-self: flex-start;width: 50%;}#sk-container-id-13 div.sk-parallel-item:only-child::after {width: 0;}#sk-container-id-13 div.sk-dashed-wrapped {border: 1px dashed gray;margin: 0 0.4em 0.5em 0.4em;box-sizing: border-box;padding-bottom: 0.4em;background-color: white;}#sk-container-id-13 div.sk-label label {font-family: monospace;font-weight: bold;display: inline-block;line-height: 1.2em;}#sk-container-id-13 div.sk-label-container {text-align: center;}#sk-container-id-13 div.sk-container {/* jupyter's `normalize.less` sets `[hidden] { display: none; }` but bootstrap.min.css set `[hidden] { display: none !important; }` so we also need the `!important` here to be able to override the default hidden behavior on the sphinx rendered scikit-learn.org. See: https://github.com/scikit-learn/scikit-learn/issues/21755 */display: inline-block !important;position: relative;}#sk-container-id-13 div.sk-text-repr-fallback {display: none;}</style><div id=\"sk-container-id-13\" class=\"sk-top-container\"><div class=\"sk-text-repr-fallback\"><pre>RandomForestClassifier(n_estimators=200)</pre><b>In a Jupyter environment, please rerun this cell to show the HTML representation or trust the notebook. <br />On GitHub, the HTML representation is unable to render, please try loading this page with nbviewer.org.</b></div><div class=\"sk-container\" hidden><div class=\"sk-item\"><div class=\"sk-estimator sk-toggleable\"><input class=\"sk-toggleable__control sk-hidden--visually\" id=\"sk-estimator-id-13\" type=\"checkbox\" checked><label for=\"sk-estimator-id-13\" class=\"sk-toggleable__label sk-toggleable__label-arrow\">RandomForestClassifier</label><div class=\"sk-toggleable__content\"><pre>RandomForestClassifier(n_estimators=200)</pre></div></div></div></div></div>"
            ]
          },
          "metadata": {},
          "execution_count": 85
        }
      ]
    },
    {
      "cell_type": "code",
      "source": [
        "y_pred = rf.predict(x_test)"
      ],
      "metadata": {
        "id": "y_j-9KOCZP9n"
      },
      "execution_count": 86,
      "outputs": []
    },
    {
      "cell_type": "markdown",
      "source": [
        "# Model prediction"
      ],
      "metadata": {
        "id": "xrZFxu8dVddp"
      }
    },
    {
      "cell_type": "code",
      "source": [
        "from sklearn.metrics import classification_report, confusion_matrix, accuracy_score"
      ],
      "metadata": {
        "id": "xVqJBnvWZak3"
      },
      "execution_count": 87,
      "outputs": []
    },
    {
      "cell_type": "code",
      "source": [
        "accuracy_score(y_test, y_pred)"
      ],
      "metadata": {
        "colab": {
          "base_uri": "https://localhost:8080/"
        },
        "id": "kQ4PMzKbZ7C9",
        "outputId": "bde27467-9b3a-4543-e950-839b90f8dcd0"
      },
      "execution_count": 88,
      "outputs": [
        {
          "output_type": "execute_result",
          "data": {
            "text/plain": [
              "0.5231519090170593"
            ]
          },
          "metadata": {},
          "execution_count": 88
        }
      ]
    },
    {
      "cell_type": "markdown",
      "source": [
        "# Model Evaluation\n"
      ],
      "metadata": {
        "id": "v-x71e2YVmw9"
      }
    },
    {
      "cell_type": "code",
      "source": [
        "confusion_matrix(y_test, y_pred)"
      ],
      "metadata": {
        "colab": {
          "base_uri": "https://localhost:8080/"
        },
        "id": "PHSsmSVIZuhp",
        "outputId": "7595d845-cab1-4592-d151-60f7dc2001a3"
      },
      "execution_count": 89,
      "outputs": [
        {
          "output_type": "execute_result",
          "data": {
            "text/plain": [
              "array([[ 73, 521],\n",
              "       [ 66, 571]])"
            ]
          },
          "metadata": {},
          "execution_count": 89
        }
      ]
    },
    {
      "cell_type": "code",
      "source": [
        "print(classification_report(y_test, y_pred))"
      ],
      "metadata": {
        "colab": {
          "base_uri": "https://localhost:8080/"
        },
        "id": "z7jbzuUtZ0cz",
        "outputId": "260a65ce-bfb9-4b46-fae4-c2c9a03bd3f8"
      },
      "execution_count": 90,
      "outputs": [
        {
          "output_type": "stream",
          "name": "stdout",
          "text": [
            "              precision    recall  f1-score   support\n",
            "\n",
            "           0       0.53      0.12      0.20       594\n",
            "           1       0.52      0.90      0.66       637\n",
            "\n",
            "    accuracy                           0.52      1231\n",
            "   macro avg       0.52      0.51      0.43      1231\n",
            "weighted avg       0.52      0.52      0.44      1231\n",
            "\n"
          ]
        }
      ]
    },
    {
      "cell_type": "markdown",
      "source": [
        "# Explaination"
      ],
      "metadata": {
        "id": "GyrHanlWBmY5"
      }
    },
    {
      "cell_type": "markdown",
      "source": [
        "\n",
        "Analyzing financial market news through sentiment analysis involves gathering relevant textual data from sources such as news articles and social media. After preprocessing the data by cleaning and tokenizing, sentiment analysis models are applied to assign sentiment scores—positive, negative, or neutral—to each piece of information. Aggregating these scores provides an overall sentiment for a specific time period or asset. The correlation of this sentiment data with market indicators, such as stock prices, helps identify potential trends or anomalies. Automating the process with machine learning models enhances efficiency, and staying informed about market conditions ensures adaptability. It's crucial to integrate sentiment analysis with traditional fundamental analysis and approach it as one component in a comprehensive strategy rather than relying solely on sentiment data for investment decisions."
      ],
      "metadata": {
        "id": "G-twctnmBhXY"
      }
    },
    {
      "cell_type": "code",
      "source": [],
      "metadata": {
        "id": "fmG9QFBVXR_a"
      },
      "execution_count": null,
      "outputs": []
    }
  ]
}